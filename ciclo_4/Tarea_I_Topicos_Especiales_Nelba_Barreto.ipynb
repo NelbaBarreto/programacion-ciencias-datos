{
  "nbformat": 4,
  "nbformat_minor": 0,
  "metadata": {
    "colab": {
      "provenance": []
    },
    "kernelspec": {
      "name": "python3",
      "display_name": "Python 3"
    },
    "language_info": {
      "name": "python"
    },
    "widgets": {
      "application/vnd.jupyter.widget-state+json": {
        "c3fdaa4778e14186ab1dd9cdf742696a": {
          "model_module": "@jupyter-widgets/controls",
          "model_name": "HBoxModel",
          "model_module_version": "1.5.0",
          "state": {
            "_dom_classes": [],
            "_model_module": "@jupyter-widgets/controls",
            "_model_module_version": "1.5.0",
            "_model_name": "HBoxModel",
            "_view_count": null,
            "_view_module": "@jupyter-widgets/controls",
            "_view_module_version": "1.5.0",
            "_view_name": "HBoxView",
            "box_style": "",
            "children": [
              "IPY_MODEL_66a8c19f763f4741a5d1aed767f3ceb8",
              "IPY_MODEL_7f5b5c75729b475585d7d7ea38e41f18",
              "IPY_MODEL_a7ab2212171f496c99db704bd2ea41aa"
            ],
            "layout": "IPY_MODEL_fe623854a1cf44159dbdd7ba695e7e45"
          }
        },
        "66a8c19f763f4741a5d1aed767f3ceb8": {
          "model_module": "@jupyter-widgets/controls",
          "model_name": "HTMLModel",
          "model_module_version": "1.5.0",
          "state": {
            "_dom_classes": [],
            "_model_module": "@jupyter-widgets/controls",
            "_model_module_version": "1.5.0",
            "_model_name": "HTMLModel",
            "_view_count": null,
            "_view_module": "@jupyter-widgets/controls",
            "_view_module_version": "1.5.0",
            "_view_name": "HTMLView",
            "description": "",
            "description_tooltip": null,
            "layout": "IPY_MODEL_68393bc909214ce3958b9d82b56b7c00",
            "placeholder": "​",
            "style": "IPY_MODEL_38c5c86acecc45199c2cde5e971eb3fb",
            "value": "Downloading https://raw.githubusercontent.com/stanfordnlp/stanza-resources/main/resources_1.10.0.json: "
          }
        },
        "7f5b5c75729b475585d7d7ea38e41f18": {
          "model_module": "@jupyter-widgets/controls",
          "model_name": "FloatProgressModel",
          "model_module_version": "1.5.0",
          "state": {
            "_dom_classes": [],
            "_model_module": "@jupyter-widgets/controls",
            "_model_module_version": "1.5.0",
            "_model_name": "FloatProgressModel",
            "_view_count": null,
            "_view_module": "@jupyter-widgets/controls",
            "_view_module_version": "1.5.0",
            "_view_name": "ProgressView",
            "bar_style": "success",
            "description": "",
            "description_tooltip": null,
            "layout": "IPY_MODEL_860ed8b81f82404cb9c196c26a624e05",
            "max": 52554,
            "min": 0,
            "orientation": "horizontal",
            "style": "IPY_MODEL_0a2fa4c2470d4410bf5428921d21285c",
            "value": 52554
          }
        },
        "a7ab2212171f496c99db704bd2ea41aa": {
          "model_module": "@jupyter-widgets/controls",
          "model_name": "HTMLModel",
          "model_module_version": "1.5.0",
          "state": {
            "_dom_classes": [],
            "_model_module": "@jupyter-widgets/controls",
            "_model_module_version": "1.5.0",
            "_model_name": "HTMLModel",
            "_view_count": null,
            "_view_module": "@jupyter-widgets/controls",
            "_view_module_version": "1.5.0",
            "_view_name": "HTMLView",
            "description": "",
            "description_tooltip": null,
            "layout": "IPY_MODEL_e5091a4865d841e9893dc718f3056b3b",
            "placeholder": "​",
            "style": "IPY_MODEL_58940b446a0b4077a15f17f94131a2f8",
            "value": " 424k/? [00:00&lt;00:00, 5.56MB/s]"
          }
        },
        "fe623854a1cf44159dbdd7ba695e7e45": {
          "model_module": "@jupyter-widgets/base",
          "model_name": "LayoutModel",
          "model_module_version": "1.2.0",
          "state": {
            "_model_module": "@jupyter-widgets/base",
            "_model_module_version": "1.2.0",
            "_model_name": "LayoutModel",
            "_view_count": null,
            "_view_module": "@jupyter-widgets/base",
            "_view_module_version": "1.2.0",
            "_view_name": "LayoutView",
            "align_content": null,
            "align_items": null,
            "align_self": null,
            "border": null,
            "bottom": null,
            "display": null,
            "flex": null,
            "flex_flow": null,
            "grid_area": null,
            "grid_auto_columns": null,
            "grid_auto_flow": null,
            "grid_auto_rows": null,
            "grid_column": null,
            "grid_gap": null,
            "grid_row": null,
            "grid_template_areas": null,
            "grid_template_columns": null,
            "grid_template_rows": null,
            "height": null,
            "justify_content": null,
            "justify_items": null,
            "left": null,
            "margin": null,
            "max_height": null,
            "max_width": null,
            "min_height": null,
            "min_width": null,
            "object_fit": null,
            "object_position": null,
            "order": null,
            "overflow": null,
            "overflow_x": null,
            "overflow_y": null,
            "padding": null,
            "right": null,
            "top": null,
            "visibility": null,
            "width": null
          }
        },
        "68393bc909214ce3958b9d82b56b7c00": {
          "model_module": "@jupyter-widgets/base",
          "model_name": "LayoutModel",
          "model_module_version": "1.2.0",
          "state": {
            "_model_module": "@jupyter-widgets/base",
            "_model_module_version": "1.2.0",
            "_model_name": "LayoutModel",
            "_view_count": null,
            "_view_module": "@jupyter-widgets/base",
            "_view_module_version": "1.2.0",
            "_view_name": "LayoutView",
            "align_content": null,
            "align_items": null,
            "align_self": null,
            "border": null,
            "bottom": null,
            "display": null,
            "flex": null,
            "flex_flow": null,
            "grid_area": null,
            "grid_auto_columns": null,
            "grid_auto_flow": null,
            "grid_auto_rows": null,
            "grid_column": null,
            "grid_gap": null,
            "grid_row": null,
            "grid_template_areas": null,
            "grid_template_columns": null,
            "grid_template_rows": null,
            "height": null,
            "justify_content": null,
            "justify_items": null,
            "left": null,
            "margin": null,
            "max_height": null,
            "max_width": null,
            "min_height": null,
            "min_width": null,
            "object_fit": null,
            "object_position": null,
            "order": null,
            "overflow": null,
            "overflow_x": null,
            "overflow_y": null,
            "padding": null,
            "right": null,
            "top": null,
            "visibility": null,
            "width": null
          }
        },
        "38c5c86acecc45199c2cde5e971eb3fb": {
          "model_module": "@jupyter-widgets/controls",
          "model_name": "DescriptionStyleModel",
          "model_module_version": "1.5.0",
          "state": {
            "_model_module": "@jupyter-widgets/controls",
            "_model_module_version": "1.5.0",
            "_model_name": "DescriptionStyleModel",
            "_view_count": null,
            "_view_module": "@jupyter-widgets/base",
            "_view_module_version": "1.2.0",
            "_view_name": "StyleView",
            "description_width": ""
          }
        },
        "860ed8b81f82404cb9c196c26a624e05": {
          "model_module": "@jupyter-widgets/base",
          "model_name": "LayoutModel",
          "model_module_version": "1.2.0",
          "state": {
            "_model_module": "@jupyter-widgets/base",
            "_model_module_version": "1.2.0",
            "_model_name": "LayoutModel",
            "_view_count": null,
            "_view_module": "@jupyter-widgets/base",
            "_view_module_version": "1.2.0",
            "_view_name": "LayoutView",
            "align_content": null,
            "align_items": null,
            "align_self": null,
            "border": null,
            "bottom": null,
            "display": null,
            "flex": null,
            "flex_flow": null,
            "grid_area": null,
            "grid_auto_columns": null,
            "grid_auto_flow": null,
            "grid_auto_rows": null,
            "grid_column": null,
            "grid_gap": null,
            "grid_row": null,
            "grid_template_areas": null,
            "grid_template_columns": null,
            "grid_template_rows": null,
            "height": null,
            "justify_content": null,
            "justify_items": null,
            "left": null,
            "margin": null,
            "max_height": null,
            "max_width": null,
            "min_height": null,
            "min_width": null,
            "object_fit": null,
            "object_position": null,
            "order": null,
            "overflow": null,
            "overflow_x": null,
            "overflow_y": null,
            "padding": null,
            "right": null,
            "top": null,
            "visibility": null,
            "width": null
          }
        },
        "0a2fa4c2470d4410bf5428921d21285c": {
          "model_module": "@jupyter-widgets/controls",
          "model_name": "ProgressStyleModel",
          "model_module_version": "1.5.0",
          "state": {
            "_model_module": "@jupyter-widgets/controls",
            "_model_module_version": "1.5.0",
            "_model_name": "ProgressStyleModel",
            "_view_count": null,
            "_view_module": "@jupyter-widgets/base",
            "_view_module_version": "1.2.0",
            "_view_name": "StyleView",
            "bar_color": null,
            "description_width": ""
          }
        },
        "e5091a4865d841e9893dc718f3056b3b": {
          "model_module": "@jupyter-widgets/base",
          "model_name": "LayoutModel",
          "model_module_version": "1.2.0",
          "state": {
            "_model_module": "@jupyter-widgets/base",
            "_model_module_version": "1.2.0",
            "_model_name": "LayoutModel",
            "_view_count": null,
            "_view_module": "@jupyter-widgets/base",
            "_view_module_version": "1.2.0",
            "_view_name": "LayoutView",
            "align_content": null,
            "align_items": null,
            "align_self": null,
            "border": null,
            "bottom": null,
            "display": null,
            "flex": null,
            "flex_flow": null,
            "grid_area": null,
            "grid_auto_columns": null,
            "grid_auto_flow": null,
            "grid_auto_rows": null,
            "grid_column": null,
            "grid_gap": null,
            "grid_row": null,
            "grid_template_areas": null,
            "grid_template_columns": null,
            "grid_template_rows": null,
            "height": null,
            "justify_content": null,
            "justify_items": null,
            "left": null,
            "margin": null,
            "max_height": null,
            "max_width": null,
            "min_height": null,
            "min_width": null,
            "object_fit": null,
            "object_position": null,
            "order": null,
            "overflow": null,
            "overflow_x": null,
            "overflow_y": null,
            "padding": null,
            "right": null,
            "top": null,
            "visibility": null,
            "width": null
          }
        },
        "58940b446a0b4077a15f17f94131a2f8": {
          "model_module": "@jupyter-widgets/controls",
          "model_name": "DescriptionStyleModel",
          "model_module_version": "1.5.0",
          "state": {
            "_model_module": "@jupyter-widgets/controls",
            "_model_module_version": "1.5.0",
            "_model_name": "DescriptionStyleModel",
            "_view_count": null,
            "_view_module": "@jupyter-widgets/base",
            "_view_module_version": "1.2.0",
            "_view_name": "StyleView",
            "description_width": ""
          }
        },
        "bb66a81fedeb40ef8448343c8d726bd6": {
          "model_module": "@jupyter-widgets/controls",
          "model_name": "HBoxModel",
          "model_module_version": "1.5.0",
          "state": {
            "_dom_classes": [],
            "_model_module": "@jupyter-widgets/controls",
            "_model_module_version": "1.5.0",
            "_model_name": "HBoxModel",
            "_view_count": null,
            "_view_module": "@jupyter-widgets/controls",
            "_view_module_version": "1.5.0",
            "_view_name": "HBoxView",
            "box_style": "",
            "children": [
              "IPY_MODEL_0719f0ba18f540489ea9b22363d2b6c7",
              "IPY_MODEL_1fb2c788c2ac4195a7d0ce0e80929404",
              "IPY_MODEL_45961f84c4434478b2056dca4821c30c"
            ],
            "layout": "IPY_MODEL_e6067dfbc1ab4a21b9e71cda3b6fda2d"
          }
        },
        "0719f0ba18f540489ea9b22363d2b6c7": {
          "model_module": "@jupyter-widgets/controls",
          "model_name": "HTMLModel",
          "model_module_version": "1.5.0",
          "state": {
            "_dom_classes": [],
            "_model_module": "@jupyter-widgets/controls",
            "_model_module_version": "1.5.0",
            "_model_name": "HTMLModel",
            "_view_count": null,
            "_view_module": "@jupyter-widgets/controls",
            "_view_module_version": "1.5.0",
            "_view_name": "HTMLView",
            "description": "",
            "description_tooltip": null,
            "layout": "IPY_MODEL_31b1124242d4487988c9643ce4e15ac1",
            "placeholder": "​",
            "style": "IPY_MODEL_6a00e4c494444591912a02023a124cc3",
            "value": "Downloading https://raw.githubusercontent.com/stanfordnlp/stanza-resources/main/resources_1.10.0.json: "
          }
        },
        "1fb2c788c2ac4195a7d0ce0e80929404": {
          "model_module": "@jupyter-widgets/controls",
          "model_name": "FloatProgressModel",
          "model_module_version": "1.5.0",
          "state": {
            "_dom_classes": [],
            "_model_module": "@jupyter-widgets/controls",
            "_model_module_version": "1.5.0",
            "_model_name": "FloatProgressModel",
            "_view_count": null,
            "_view_module": "@jupyter-widgets/controls",
            "_view_module_version": "1.5.0",
            "_view_name": "ProgressView",
            "bar_style": "success",
            "description": "",
            "description_tooltip": null,
            "layout": "IPY_MODEL_72de48d6d4974f40879cf8ea7612ee0d",
            "max": 52554,
            "min": 0,
            "orientation": "horizontal",
            "style": "IPY_MODEL_263ce5c2d8b24849b06ce8dedc1352e6",
            "value": 52554
          }
        },
        "45961f84c4434478b2056dca4821c30c": {
          "model_module": "@jupyter-widgets/controls",
          "model_name": "HTMLModel",
          "model_module_version": "1.5.0",
          "state": {
            "_dom_classes": [],
            "_model_module": "@jupyter-widgets/controls",
            "_model_module_version": "1.5.0",
            "_model_name": "HTMLModel",
            "_view_count": null,
            "_view_module": "@jupyter-widgets/controls",
            "_view_module_version": "1.5.0",
            "_view_name": "HTMLView",
            "description": "",
            "description_tooltip": null,
            "layout": "IPY_MODEL_9f70fccef16a4a838caa87893ea6b611",
            "placeholder": "​",
            "style": "IPY_MODEL_0e5fe488f08847819827096fbbd5bc16",
            "value": " 424k/? [00:00&lt;00:00, 14.7MB/s]"
          }
        },
        "e6067dfbc1ab4a21b9e71cda3b6fda2d": {
          "model_module": "@jupyter-widgets/base",
          "model_name": "LayoutModel",
          "model_module_version": "1.2.0",
          "state": {
            "_model_module": "@jupyter-widgets/base",
            "_model_module_version": "1.2.0",
            "_model_name": "LayoutModel",
            "_view_count": null,
            "_view_module": "@jupyter-widgets/base",
            "_view_module_version": "1.2.0",
            "_view_name": "LayoutView",
            "align_content": null,
            "align_items": null,
            "align_self": null,
            "border": null,
            "bottom": null,
            "display": null,
            "flex": null,
            "flex_flow": null,
            "grid_area": null,
            "grid_auto_columns": null,
            "grid_auto_flow": null,
            "grid_auto_rows": null,
            "grid_column": null,
            "grid_gap": null,
            "grid_row": null,
            "grid_template_areas": null,
            "grid_template_columns": null,
            "grid_template_rows": null,
            "height": null,
            "justify_content": null,
            "justify_items": null,
            "left": null,
            "margin": null,
            "max_height": null,
            "max_width": null,
            "min_height": null,
            "min_width": null,
            "object_fit": null,
            "object_position": null,
            "order": null,
            "overflow": null,
            "overflow_x": null,
            "overflow_y": null,
            "padding": null,
            "right": null,
            "top": null,
            "visibility": null,
            "width": null
          }
        },
        "31b1124242d4487988c9643ce4e15ac1": {
          "model_module": "@jupyter-widgets/base",
          "model_name": "LayoutModel",
          "model_module_version": "1.2.0",
          "state": {
            "_model_module": "@jupyter-widgets/base",
            "_model_module_version": "1.2.0",
            "_model_name": "LayoutModel",
            "_view_count": null,
            "_view_module": "@jupyter-widgets/base",
            "_view_module_version": "1.2.0",
            "_view_name": "LayoutView",
            "align_content": null,
            "align_items": null,
            "align_self": null,
            "border": null,
            "bottom": null,
            "display": null,
            "flex": null,
            "flex_flow": null,
            "grid_area": null,
            "grid_auto_columns": null,
            "grid_auto_flow": null,
            "grid_auto_rows": null,
            "grid_column": null,
            "grid_gap": null,
            "grid_row": null,
            "grid_template_areas": null,
            "grid_template_columns": null,
            "grid_template_rows": null,
            "height": null,
            "justify_content": null,
            "justify_items": null,
            "left": null,
            "margin": null,
            "max_height": null,
            "max_width": null,
            "min_height": null,
            "min_width": null,
            "object_fit": null,
            "object_position": null,
            "order": null,
            "overflow": null,
            "overflow_x": null,
            "overflow_y": null,
            "padding": null,
            "right": null,
            "top": null,
            "visibility": null,
            "width": null
          }
        },
        "6a00e4c494444591912a02023a124cc3": {
          "model_module": "@jupyter-widgets/controls",
          "model_name": "DescriptionStyleModel",
          "model_module_version": "1.5.0",
          "state": {
            "_model_module": "@jupyter-widgets/controls",
            "_model_module_version": "1.5.0",
            "_model_name": "DescriptionStyleModel",
            "_view_count": null,
            "_view_module": "@jupyter-widgets/base",
            "_view_module_version": "1.2.0",
            "_view_name": "StyleView",
            "description_width": ""
          }
        },
        "72de48d6d4974f40879cf8ea7612ee0d": {
          "model_module": "@jupyter-widgets/base",
          "model_name": "LayoutModel",
          "model_module_version": "1.2.0",
          "state": {
            "_model_module": "@jupyter-widgets/base",
            "_model_module_version": "1.2.0",
            "_model_name": "LayoutModel",
            "_view_count": null,
            "_view_module": "@jupyter-widgets/base",
            "_view_module_version": "1.2.0",
            "_view_name": "LayoutView",
            "align_content": null,
            "align_items": null,
            "align_self": null,
            "border": null,
            "bottom": null,
            "display": null,
            "flex": null,
            "flex_flow": null,
            "grid_area": null,
            "grid_auto_columns": null,
            "grid_auto_flow": null,
            "grid_auto_rows": null,
            "grid_column": null,
            "grid_gap": null,
            "grid_row": null,
            "grid_template_areas": null,
            "grid_template_columns": null,
            "grid_template_rows": null,
            "height": null,
            "justify_content": null,
            "justify_items": null,
            "left": null,
            "margin": null,
            "max_height": null,
            "max_width": null,
            "min_height": null,
            "min_width": null,
            "object_fit": null,
            "object_position": null,
            "order": null,
            "overflow": null,
            "overflow_x": null,
            "overflow_y": null,
            "padding": null,
            "right": null,
            "top": null,
            "visibility": null,
            "width": null
          }
        },
        "263ce5c2d8b24849b06ce8dedc1352e6": {
          "model_module": "@jupyter-widgets/controls",
          "model_name": "ProgressStyleModel",
          "model_module_version": "1.5.0",
          "state": {
            "_model_module": "@jupyter-widgets/controls",
            "_model_module_version": "1.5.0",
            "_model_name": "ProgressStyleModel",
            "_view_count": null,
            "_view_module": "@jupyter-widgets/base",
            "_view_module_version": "1.2.0",
            "_view_name": "StyleView",
            "bar_color": null,
            "description_width": ""
          }
        },
        "9f70fccef16a4a838caa87893ea6b611": {
          "model_module": "@jupyter-widgets/base",
          "model_name": "LayoutModel",
          "model_module_version": "1.2.0",
          "state": {
            "_model_module": "@jupyter-widgets/base",
            "_model_module_version": "1.2.0",
            "_model_name": "LayoutModel",
            "_view_count": null,
            "_view_module": "@jupyter-widgets/base",
            "_view_module_version": "1.2.0",
            "_view_name": "LayoutView",
            "align_content": null,
            "align_items": null,
            "align_self": null,
            "border": null,
            "bottom": null,
            "display": null,
            "flex": null,
            "flex_flow": null,
            "grid_area": null,
            "grid_auto_columns": null,
            "grid_auto_flow": null,
            "grid_auto_rows": null,
            "grid_column": null,
            "grid_gap": null,
            "grid_row": null,
            "grid_template_areas": null,
            "grid_template_columns": null,
            "grid_template_rows": null,
            "height": null,
            "justify_content": null,
            "justify_items": null,
            "left": null,
            "margin": null,
            "max_height": null,
            "max_width": null,
            "min_height": null,
            "min_width": null,
            "object_fit": null,
            "object_position": null,
            "order": null,
            "overflow": null,
            "overflow_x": null,
            "overflow_y": null,
            "padding": null,
            "right": null,
            "top": null,
            "visibility": null,
            "width": null
          }
        },
        "0e5fe488f08847819827096fbbd5bc16": {
          "model_module": "@jupyter-widgets/controls",
          "model_name": "DescriptionStyleModel",
          "model_module_version": "1.5.0",
          "state": {
            "_model_module": "@jupyter-widgets/controls",
            "_model_module_version": "1.5.0",
            "_model_name": "DescriptionStyleModel",
            "_view_count": null,
            "_view_module": "@jupyter-widgets/base",
            "_view_module_version": "1.2.0",
            "_view_name": "StyleView",
            "description_width": ""
          }
        }
      }
    }
  },
  "cells": [
    {
      "cell_type": "markdown",
      "source": [
        "# Preprocesamiento de texto con Python"
      ],
      "metadata": {
        "id": "g54l6V7AS1QO"
      }
    },
    {
      "cell_type": "markdown",
      "source": [
        "<b>Usar al menos 2 bibliotecas de PLN para analizar el texto La trampa, de Mario Halley Mora y responder las siguientes preguntas:</b>\n",
        "\n",
        "1. Cuantas palabras hay en el texto? (descartando símbolos de puntuación).\n",
        "2. Cuantas palabras diferentes hay?.\n",
        "3. Después de lematizar las palabras, cuantas palabras diferentes hay?.\n",
        "4. ¿Cuál es la diversidad léxica del texto dado? (relación de palabras únicas con respecto al número total de palabras)\n",
        "5. ¿Cuáles son las 20 palabras más frecuentes en el texto? ¿Cuál es su frecuencia?\n",
        "6. Cual es el número promedio de palabras por oración?\n",
        "7. Cual  es la frecuencia de de sustantivos, adjetivos y verbos en el texto?\n"
      ],
      "metadata": {
        "id": "wbfdQK0zTDZ2"
      }
    },
    {
      "cell_type": "markdown",
      "source": [
        "<hr/>"
      ],
      "metadata": {
        "id": "8J84fCSZTQe4"
      }
    },
    {
      "cell_type": "code",
      "source": [
        "import requests"
      ],
      "metadata": {
        "id": "rVsvRoZ4VT31"
      },
      "execution_count": 60,
      "outputs": []
    },
    {
      "cell_type": "code",
      "source": [
        "url = \"https://raw.githubusercontent.com/NelbaBarreto/programacion-ciencias-datos/refs/heads/main/data/latrampa.txt\"\n",
        "\n",
        "# Obtener el contenido de la URL\n",
        "response = requests.get(url)\n",
        "\n",
        "# Verificar si la solicitud fue exitosa\n",
        "if response.status_code == 200:\n",
        "    # Obtener el texto de la respuesta\n",
        "    texto = response.text\n",
        "    print(texto)\n",
        "else:\n",
        "    print(\"Error al obtener el contenido:\", response.status_code)"
      ],
      "metadata": {
        "colab": {
          "base_uri": "https://localhost:8080/"
        },
        "id": "ij7IU7a3TgOw",
        "outputId": "8403f5aa-3e25-4864-d4d5-a03bfcc2269f"
      },
      "execution_count": 61,
      "outputs": [
        {
          "output_type": "stream",
          "name": "stdout",
          "text": [
            "LA TRAMPA\n",
            "«Ruego al padre del alumno Raúl Ortiz (h), se sirva presentarse el día de mañana en horas de clase, por motivos que guardan relación con la conducta del niño. La maestra». La seca citación estaba escrita con prolija letra pedagógica, en el bastante sucio cuaderno de deber de Raulito (hijo).\n",
            "Raúl (padre) requirió a Raulito (hijo) el motivo de esta llamada. Y por toda respuesta, el chico se echó a llorar desconsoladamente.\n",
            "Un poco temeroso de encontrarse con una maestra como la que le había tocado a él mismo en el quinto grado, bigotuda, solterona y malhumorada, Raúl (padre) se encaminó a la Escuela, y solicitó una entrevista con la maestra de Raulito (hijo) y cuando ella, durante el primer recreo, lo recibió en la antesala de la Dirección, tuvo una agradable sorpresa. La maestra ni era solterona, ni bigotuda, aunque sí malhumorada, cosa que no podía ocultar ni siquiera detrás de sus ojos celestes y la inocencia juvenil de su boca.\n",
            "-Señor Ortiz -dijo la joven maestra, sin preámbulo alguno-. Su hijo es una calamidad. Viene con los cabellos largos y despeinados. Trae siempre las uñas sucias y el guardapolvos imposible. En el barro de sus zapatos se puede estudiar la historia de la Tierra...\n",
            "Avergonzado, Raúl (padre) bajó la cabeza. Y la maestra prosiguió implacable:\n",
            "-Y sus deberes, señor, parecería que escribe con una mano y con la otra se come una empanada y se me ocurre que a veces se confunde y se come el lápiz y escribe con la empanada, tan grasientas están las hojas... Dígame, señor... ¿No puede venir más limpio, más aseado a la Escuela...? ¿No podrían ayudarle a hacer mejor sus deberes...? ¿No le obligan en su casa a estudiar sus lecciones? ¡Ciertamente, su hijo es una calamidad, señor!\n",
            "Raúl (padre), humillado, atinó una explicación.\n",
            "-Señorita, usted tiene toda la razón del mundo -dijo-, trataré de remediarlo. Es que nos vemos tan poco con Raulito. Soy contador público en dos empresas. Regreso recién por la noche, y si no lo encuentro dormido, está en la calle, vaya a saber con quién. Pero le prometo que me ocuparé...\n",
            "-Si usted no tiene tiempo... ¿Qué hay de la madre? -preguntó la maestra.\n",
            "Raúl (padre) la miró tristemente.\n",
            "-Soy viudo, señorita -aclaró-. Estamos solos, o casi. Nos atiende una cocinera vieja, que sólo ve con un ojo y cojea de la derecha.\n",
            "Los ojos celestes y límpidos de la maestra se llenaron de lágrimas. La boquita, antes severa, pareció torcerse en un puchero infantil.\n",
            "-Oh, lo siento tanto, señor -dijo la maestrita, con voz temblorosa, mientras recogía con un dedito rosado una lágrima que le corría por las mejillas-... He sido tan injusta con usted y con Raulito. Me he estado burlando del dolor de mi prójimo... -giró la cabeza con un airoso revoloteo de sus cabellos rubios y se puso a llorar quedamente.\n",
            "A esta altura, el corazón de Raúl (padre) ya estaba reducido a maleable arcilla. Trató de hablar con voz de muy hombre, pero le salían gallitos enternecidos.\n",
            "-No se angustie así, señorita -pidió-. Nadie le culpa. Usted no lo sabía...\n",
            "-Me duele tanto ese pobre niño... -suspiró ella desde atrás de la cristalina cortina de sus lágrimas, y prosiguió- ¿Me deja ocuparme de él...? Conozco su casa. Vendré por las mañanas. Por supuesto, cuando usted no está...\n",
            "-Pero señorita...\n",
            "-No. No. Soy su maestra. Su educación es de mi competencia. Lo quiero como una cuestión personal... y para corregir una injusticia...\n",
            "Con la lengua absolutamente enredada, Raúl (padre) intentó dar las gracias, y se marchó.\n",
            "Dos meses después, la dulce maestrita escribía una esquela a su mamá:\n",
            "«Querida mamá. El truco de la maestra enojada resultó. Anoche Raúl solicitó mi mano. Se la di, desde luego. Nos casamos el mes que viene. Si piensas regalarme algo, que sea una docena de jabones de baño. Son para Raulito, Marta».\n",
            "\n",
            "\n"
          ]
        }
      ]
    },
    {
      "cell_type": "markdown",
      "source": [
        "## spaCy"
      ],
      "metadata": {
        "id": "76qXAy-7TXdg"
      }
    },
    {
      "cell_type": "code",
      "source": [
        "# Instalar spaCy\n",
        "!pip install spacy\n",
        "!python -m spacy download es_core_news_sm"
      ],
      "metadata": {
        "colab": {
          "base_uri": "https://localhost:8080/"
        },
        "id": "CxB52l4cUcnr",
        "outputId": "0d940e55-4b5d-4d7e-8e88-eeb0ac04d291"
      },
      "execution_count": 62,
      "outputs": [
        {
          "output_type": "stream",
          "name": "stdout",
          "text": [
            "Requirement already satisfied: spacy in /usr/local/lib/python3.11/dist-packages (3.8.4)\n",
            "Requirement already satisfied: spacy-legacy<3.1.0,>=3.0.11 in /usr/local/lib/python3.11/dist-packages (from spacy) (3.0.12)\n",
            "Requirement already satisfied: spacy-loggers<2.0.0,>=1.0.0 in /usr/local/lib/python3.11/dist-packages (from spacy) (1.0.5)\n",
            "Requirement already satisfied: murmurhash<1.1.0,>=0.28.0 in /usr/local/lib/python3.11/dist-packages (from spacy) (1.0.12)\n",
            "Requirement already satisfied: cymem<2.1.0,>=2.0.2 in /usr/local/lib/python3.11/dist-packages (from spacy) (2.0.11)\n",
            "Requirement already satisfied: preshed<3.1.0,>=3.0.2 in /usr/local/lib/python3.11/dist-packages (from spacy) (3.0.9)\n",
            "Requirement already satisfied: thinc<8.4.0,>=8.3.4 in /usr/local/lib/python3.11/dist-packages (from spacy) (8.3.4)\n",
            "Requirement already satisfied: wasabi<1.2.0,>=0.9.1 in /usr/local/lib/python3.11/dist-packages (from spacy) (1.1.3)\n",
            "Requirement already satisfied: srsly<3.0.0,>=2.4.3 in /usr/local/lib/python3.11/dist-packages (from spacy) (2.5.1)\n",
            "Requirement already satisfied: catalogue<2.1.0,>=2.0.6 in /usr/local/lib/python3.11/dist-packages (from spacy) (2.0.10)\n",
            "Requirement already satisfied: weasel<0.5.0,>=0.1.0 in /usr/local/lib/python3.11/dist-packages (from spacy) (0.4.1)\n",
            "Requirement already satisfied: typer<1.0.0,>=0.3.0 in /usr/local/lib/python3.11/dist-packages (from spacy) (0.15.2)\n",
            "Requirement already satisfied: tqdm<5.0.0,>=4.38.0 in /usr/local/lib/python3.11/dist-packages (from spacy) (4.67.1)\n",
            "Requirement already satisfied: numpy>=1.19.0 in /usr/local/lib/python3.11/dist-packages (from spacy) (2.0.2)\n",
            "Requirement already satisfied: requests<3.0.0,>=2.13.0 in /usr/local/lib/python3.11/dist-packages (from spacy) (2.32.3)\n",
            "Requirement already satisfied: pydantic!=1.8,!=1.8.1,<3.0.0,>=1.7.4 in /usr/local/lib/python3.11/dist-packages (from spacy) (2.10.6)\n",
            "Requirement already satisfied: jinja2 in /usr/local/lib/python3.11/dist-packages (from spacy) (3.1.6)\n",
            "Requirement already satisfied: setuptools in /usr/local/lib/python3.11/dist-packages (from spacy) (75.1.0)\n",
            "Requirement already satisfied: packaging>=20.0 in /usr/local/lib/python3.11/dist-packages (from spacy) (24.2)\n",
            "Requirement already satisfied: langcodes<4.0.0,>=3.2.0 in /usr/local/lib/python3.11/dist-packages (from spacy) (3.5.0)\n",
            "Requirement already satisfied: language-data>=1.2 in /usr/local/lib/python3.11/dist-packages (from langcodes<4.0.0,>=3.2.0->spacy) (1.3.0)\n",
            "Requirement already satisfied: annotated-types>=0.6.0 in /usr/local/lib/python3.11/dist-packages (from pydantic!=1.8,!=1.8.1,<3.0.0,>=1.7.4->spacy) (0.7.0)\n",
            "Requirement already satisfied: pydantic-core==2.27.2 in /usr/local/lib/python3.11/dist-packages (from pydantic!=1.8,!=1.8.1,<3.0.0,>=1.7.4->spacy) (2.27.2)\n",
            "Requirement already satisfied: typing-extensions>=4.12.2 in /usr/local/lib/python3.11/dist-packages (from pydantic!=1.8,!=1.8.1,<3.0.0,>=1.7.4->spacy) (4.12.2)\n",
            "Requirement already satisfied: charset-normalizer<4,>=2 in /usr/local/lib/python3.11/dist-packages (from requests<3.0.0,>=2.13.0->spacy) (3.4.1)\n",
            "Requirement already satisfied: idna<4,>=2.5 in /usr/local/lib/python3.11/dist-packages (from requests<3.0.0,>=2.13.0->spacy) (3.10)\n",
            "Requirement already satisfied: urllib3<3,>=1.21.1 in /usr/local/lib/python3.11/dist-packages (from requests<3.0.0,>=2.13.0->spacy) (2.3.0)\n",
            "Requirement already satisfied: certifi>=2017.4.17 in /usr/local/lib/python3.11/dist-packages (from requests<3.0.0,>=2.13.0->spacy) (2025.1.31)\n",
            "Requirement already satisfied: blis<1.3.0,>=1.2.0 in /usr/local/lib/python3.11/dist-packages (from thinc<8.4.0,>=8.3.4->spacy) (1.2.0)\n",
            "Requirement already satisfied: confection<1.0.0,>=0.0.1 in /usr/local/lib/python3.11/dist-packages (from thinc<8.4.0,>=8.3.4->spacy) (0.1.5)\n",
            "Requirement already satisfied: click>=8.0.0 in /usr/local/lib/python3.11/dist-packages (from typer<1.0.0,>=0.3.0->spacy) (8.1.8)\n",
            "Requirement already satisfied: shellingham>=1.3.0 in /usr/local/lib/python3.11/dist-packages (from typer<1.0.0,>=0.3.0->spacy) (1.5.4)\n",
            "Requirement already satisfied: rich>=10.11.0 in /usr/local/lib/python3.11/dist-packages (from typer<1.0.0,>=0.3.0->spacy) (13.9.4)\n",
            "Requirement already satisfied: cloudpathlib<1.0.0,>=0.7.0 in /usr/local/lib/python3.11/dist-packages (from weasel<0.5.0,>=0.1.0->spacy) (0.21.0)\n",
            "Requirement already satisfied: smart-open<8.0.0,>=5.2.1 in /usr/local/lib/python3.11/dist-packages (from weasel<0.5.0,>=0.1.0->spacy) (7.1.0)\n",
            "Requirement already satisfied: MarkupSafe>=2.0 in /usr/local/lib/python3.11/dist-packages (from jinja2->spacy) (3.0.2)\n",
            "Requirement already satisfied: marisa-trie>=1.1.0 in /usr/local/lib/python3.11/dist-packages (from language-data>=1.2->langcodes<4.0.0,>=3.2.0->spacy) (1.2.1)\n",
            "Requirement already satisfied: markdown-it-py>=2.2.0 in /usr/local/lib/python3.11/dist-packages (from rich>=10.11.0->typer<1.0.0,>=0.3.0->spacy) (3.0.0)\n",
            "Requirement already satisfied: pygments<3.0.0,>=2.13.0 in /usr/local/lib/python3.11/dist-packages (from rich>=10.11.0->typer<1.0.0,>=0.3.0->spacy) (2.18.0)\n",
            "Requirement already satisfied: wrapt in /usr/local/lib/python3.11/dist-packages (from smart-open<8.0.0,>=5.2.1->weasel<0.5.0,>=0.1.0->spacy) (1.17.2)\n",
            "Requirement already satisfied: mdurl~=0.1 in /usr/local/lib/python3.11/dist-packages (from markdown-it-py>=2.2.0->rich>=10.11.0->typer<1.0.0,>=0.3.0->spacy) (0.1.2)\n",
            "Collecting es-core-news-sm==3.8.0\n",
            "  Downloading https://github.com/explosion/spacy-models/releases/download/es_core_news_sm-3.8.0/es_core_news_sm-3.8.0-py3-none-any.whl (12.9 MB)\n",
            "\u001b[2K     \u001b[90m━━━━━━━━━━━━━━━━━━━━━━━━━━━━━━━━━━━━━━━━\u001b[0m \u001b[32m12.9/12.9 MB\u001b[0m \u001b[31m57.3 MB/s\u001b[0m eta \u001b[36m0:00:00\u001b[0m\n",
            "\u001b[?25h\u001b[38;5;2m✔ Download and installation successful\u001b[0m\n",
            "You can now load the package via spacy.load('es_core_news_sm')\n",
            "\u001b[38;5;3m⚠ Restart to reload dependencies\u001b[0m\n",
            "If you are in a Jupyter or Colab notebook, you may need to restart Python in\n",
            "order to load all the package's dependencies. You can do this by selecting the\n",
            "'Restart kernel' or 'Restart runtime' option.\n"
          ]
        }
      ]
    },
    {
      "cell_type": "code",
      "source": [
        "import spacy\n",
        "\n",
        "# Cargar el modelo de español\n",
        "nlp = spacy.load(\"es_core_news_sm\")\n",
        "\n",
        "# Procesar el texto con spaCy\n",
        "doc = nlp(texto)"
      ],
      "metadata": {
        "id": "NAMNb5UeU57k"
      },
      "execution_count": 63,
      "outputs": []
    },
    {
      "cell_type": "code",
      "source": [
        "# Obtener palabras válidas: sin puntuación, sin espacios, sin caracteres vacíos\n",
        "palabras_validas = [token.text.lower() for token in doc if token.is_alpha and token.text]"
      ],
      "metadata": {
        "id": "5SXYEGfiZyoh"
      },
      "execution_count": 64,
      "outputs": []
    },
    {
      "cell_type": "code",
      "execution_count": 65,
      "metadata": {
        "id": "pC5O-a7-SsAl",
        "colab": {
          "base_uri": "https://localhost:8080/"
        },
        "outputId": "2a7c5102-4336-4661-d01e-5ff1732a4fcd"
      },
      "outputs": [
        {
          "output_type": "stream",
          "name": "stdout",
          "text": [
            "Hay 627 palabras en el texto descartando los símbolos de puntuación.\n"
          ]
        }
      ],
      "source": [
        "# 1. Cuantas palabras hay en el texto? (descartando símbolos de puntuación).\n",
        "cantidad_palabras_total = len(palabras_validas)\n",
        "print(f\"Hay {cantidad_palabras_total} palabras en el texto descartando los símbolos de puntuación.\")"
      ]
    },
    {
      "cell_type": "code",
      "source": [
        "# 2. Cuantas palabras diferentes hay?.\n",
        "# Contar palabras únicas con set()\n",
        "cantidad_palabras_unicas = len(set(palabras_validas))\n",
        "print(f\"Hay {cantidad_palabras_unicas} palabras diferentes.\")"
      ],
      "metadata": {
        "colab": {
          "base_uri": "https://localhost:8080/"
        },
        "id": "k3rEKkSfBtRm",
        "outputId": "30661fa3-cd47-479a-af74-fc3dd93ee37b"
      },
      "execution_count": 66,
      "outputs": [
        {
          "output_type": "stream",
          "name": "stdout",
          "text": [
            "Hay 315 palabras diferentes.\n"
          ]
        }
      ]
    },
    {
      "cell_type": "code",
      "source": [
        "# 3. Después de lematizar las palabras, cuantas palabras diferentes hay?.\n",
        "# Obtener la forma lematizada de cada palabra, en minúsculas, sin signos de puntuación ni espacios\n",
        "palabras = {token.lemma_.lower() for token in doc if token.is_alpha and token.text}\n",
        "\n",
        "cantidad_palabras_lematizadas = len(set(palabras))\n",
        "print(f\"Después de lematizar las palabras, hay {cantidad_palabras_lematizadas} palabras diferentes.\")"
      ],
      "metadata": {
        "colab": {
          "base_uri": "https://localhost:8080/"
        },
        "id": "nDDrP5m2C1Ge",
        "outputId": "8c89ea9a-7613-4158-e39c-17a7f13c2dce"
      },
      "execution_count": 67,
      "outputs": [
        {
          "output_type": "stream",
          "name": "stdout",
          "text": [
            "Después de lematizar las palabras, hay 276 palabras diferentes.\n"
          ]
        }
      ]
    },
    {
      "cell_type": "code",
      "source": [
        "# 4. ¿Cuál es la diversidad léxica del texto dado? (relación de palabras únicas con respecto al número total de palabras)\n",
        "diversidad_lexica = cantidad_palabras_unicas / cantidad_palabras_total\n",
        "print(f\"La diversidad léxica del texto es de {diversidad_lexica:.2f}.\")"
      ],
      "metadata": {
        "colab": {
          "base_uri": "https://localhost:8080/"
        },
        "id": "TQ2oWC4UKNd4",
        "outputId": "d9b2fad8-fc01-44ae-a293-124de5fc6e6c"
      },
      "execution_count": 68,
      "outputs": [
        {
          "output_type": "stream",
          "name": "stdout",
          "text": [
            "La diversidad léxica del texto es de 0.50.\n"
          ]
        }
      ]
    },
    {
      "cell_type": "code",
      "source": [
        "# 5. ¿Cuáles son las 20 palabras más frecuentes en el texto? ¿Cuál es su frecuencia?\n",
        "from collections import Counter\n",
        "\n",
        "# Contar la frecuencia de cada palabra\n",
        "frecuencia_palabras = Counter(palabras_validas)\n",
        "\n",
        "# Obtener las 20 palabras más frecuentes\n",
        "top_20 = frecuencia_palabras.most_common(20)\n",
        "\n",
        "# Mostrar resultado\n",
        "print(\"Las 20 palabras más frecuentes y su frecuencia son:\")\n",
        "\n",
        "for i, (palabra, frecuencia) in enumerate(top_20, 1):\n",
        "    print(f\"{i} => {palabra}: {frecuencia}\")"
      ],
      "metadata": {
        "colab": {
          "base_uri": "https://localhost:8080/"
        },
        "id": "5PYjaYArLDYP",
        "outputId": "315cb87a-fe4e-4fa4-90b7-bf08503b3413"
      },
      "execution_count": 69,
      "outputs": [
        {
          "output_type": "stream",
          "name": "stdout",
          "text": [
            "Las 20 palabras más frecuentes y su frecuencia son:\n",
            "1 => la: 35\n",
            "2 => de: 29\n",
            "3 => y: 20\n",
            "4 => con: 18\n",
            "5 => una: 14\n",
            "6 => se: 13\n",
            "7 => a: 13\n",
            "8 => el: 12\n",
            "9 => que: 11\n",
            "10 => maestra: 10\n",
            "11 => raúl: 9\n",
            "12 => en: 9\n",
            "13 => no: 9\n",
            "14 => padre: 8\n",
            "15 => su: 8\n",
            "16 => sus: 7\n",
            "17 => por: 6\n",
            "18 => raulito: 6\n",
            "19 => le: 6\n",
            "20 => hijo: 5\n"
          ]
        }
      ]
    },
    {
      "cell_type": "code",
      "source": [
        "# 6. Cual es el número promedio de palabras por oración?\n",
        "# Obtener todas las oraciones\n",
        "\n",
        "# Doc.sents | Iterate over the sentences in the document.\n",
        "oraciones = list(doc.sents)\n",
        "\n",
        "# Contar palabras en cada oración (excluyendo puntuación)\n",
        "num_palabras_por_oracion = [\n",
        "    len([token.text.lower() for token in oracion if token.is_alpha])\n",
        "    for oracion in oraciones\n",
        "]\n",
        "\n",
        "# Calcular el promedio\n",
        "promedio_palabras = sum(num_palabras_por_oracion) / len(num_palabras_por_oracion) if num_palabras_por_oracion else 0\n",
        "\n",
        "# Mostrar resultado\n",
        "print(f\"El número promedio de palabras por oración es {promedio_palabras:.2f}\")"
      ],
      "metadata": {
        "id": "n9MyF8KiQmD3",
        "colab": {
          "base_uri": "https://localhost:8080/"
        },
        "outputId": "86cdfd12-4792-486e-b7c5-6d5d71c86641"
      },
      "execution_count": 70,
      "outputs": [
        {
          "output_type": "stream",
          "name": "stdout",
          "text": [
            "El número promedio de palabras por oración es 12.29\n"
          ]
        }
      ]
    },
    {
      "cell_type": "code",
      "source": [
        "# 7. Cual es la frecuencia de de sustantivos, adjetivos y verbos en el texto?\n",
        "# Clasificar las palabras según su tipo (POS: Part of Speech)\n",
        "sustantivos = [token.text.lower() for token in doc if token.pos_ == \"NOUN\" and token.is_alpha]\n",
        "adjetivos = [token.text.lower() for token in doc if token.pos_ == \"ADJ\" and token.is_alpha]\n",
        "verbos = [token.text.lower() for token in doc if token.pos_ == \"VERB\" and token.is_alpha]\n",
        "\n",
        "# Contar la frecuencia de cada tipo de palabra\n",
        "frecuencia_sustantivos = Counter(sustantivos)\n",
        "frecuencia_adjetivos = Counter(adjetivos)\n",
        "frecuencia_verbos = Counter(verbos)\n",
        "\n",
        "# Ver las palabras más frecuentes según su tipo\n",
        "print(f\"Sustantivos más frecuentes: {frecuencia_sustantivos.most_common(10)}\")\n",
        "print(f\"Adjetivos más frecuentes: {frecuencia_adjetivos.most_common(10)}\")\n",
        "print(f\"Verbos más frecuentes: {frecuencia_verbos.most_common(10)}\")\n",
        "\n",
        "print(\"\\n***********\")\n",
        "# Mostrar resultados\n",
        "print(f\"La frecuencia de sustantivos es: {len(frecuencia_sustantivos)}\")\n",
        "print(f\"La frecuencia de adjetivos es: {len(frecuencia_adjetivos)}\")\n",
        "print(f\"La frecuencia de verbos es: {len(frecuencia_verbos)}\")"
      ],
      "metadata": {
        "colab": {
          "base_uri": "https://localhost:8080/"
        },
        "id": "Qc6mR9dPXIox",
        "outputId": "fdcb913e-a9be-48f1-afec-d793a82eb7e7"
      },
      "execution_count": 71,
      "outputs": [
        {
          "output_type": "stream",
          "name": "stdout",
          "text": [
            "Sustantivos más frecuentes: [('maestra', 10), ('padre', 8), ('hijo', 5), ('señor', 3), ('niño', 2), ('bigotuda', 2), ('solterona', 2), ('ojos', 2), ('calamidad', 2), ('cabellos', 2)]\n",
            "Adjetivos más frecuentes: [('celestes', 2), ('seca', 1), ('escrita', 1), ('letra', 1), ('pedagógica', 1), ('bastante', 1), ('sucio', 1), ('temeroso', 1), ('mismo', 1), ('quinto', 1)]\n",
            "Verbos más frecuentes: [('señorita', 3), ('llorar', 2), ('solicitó', 2), ('viene', 2), ('estudiar', 2), ('escribe', 2), ('come', 2), ('tiene', 2), ('sirva', 1), ('presentarse', 1)]\n",
            "\n",
            "***********\n",
            "La frecuencia de sustantivos es: 101\n",
            "La frecuencia de adjetivos es: 44\n",
            "La frecuencia de verbos es: 70\n"
          ]
        }
      ]
    },
    {
      "cell_type": "markdown",
      "source": [
        "<hr />"
      ],
      "metadata": {
        "id": "CBP0uJ0tR0QH"
      }
    },
    {
      "cell_type": "markdown",
      "source": [
        "## Stanza"
      ],
      "metadata": {
        "id": "REX3l7BHTaEA"
      }
    },
    {
      "cell_type": "code",
      "source": [
        "!pip install stanza"
      ],
      "metadata": {
        "colab": {
          "base_uri": "https://localhost:8080/"
        },
        "id": "23yr_YtjfM05",
        "outputId": "79e5cfa4-ec55-48b2-dd44-e527045df14d"
      },
      "execution_count": 72,
      "outputs": [
        {
          "output_type": "stream",
          "name": "stdout",
          "text": [
            "Requirement already satisfied: stanza in /usr/local/lib/python3.11/dist-packages (1.10.1)\n",
            "Requirement already satisfied: emoji in /usr/local/lib/python3.11/dist-packages (from stanza) (2.14.1)\n",
            "Requirement already satisfied: numpy in /usr/local/lib/python3.11/dist-packages (from stanza) (2.0.2)\n",
            "Requirement already satisfied: protobuf>=3.15.0 in /usr/local/lib/python3.11/dist-packages (from stanza) (4.25.6)\n",
            "Requirement already satisfied: requests in /usr/local/lib/python3.11/dist-packages (from stanza) (2.32.3)\n",
            "Requirement already satisfied: networkx in /usr/local/lib/python3.11/dist-packages (from stanza) (3.4.2)\n",
            "Requirement already satisfied: torch>=1.3.0 in /usr/local/lib/python3.11/dist-packages (from stanza) (2.6.0+cu124)\n",
            "Requirement already satisfied: tqdm in /usr/local/lib/python3.11/dist-packages (from stanza) (4.67.1)\n",
            "Requirement already satisfied: filelock in /usr/local/lib/python3.11/dist-packages (from torch>=1.3.0->stanza) (3.17.0)\n",
            "Requirement already satisfied: typing-extensions>=4.10.0 in /usr/local/lib/python3.11/dist-packages (from torch>=1.3.0->stanza) (4.12.2)\n",
            "Requirement already satisfied: jinja2 in /usr/local/lib/python3.11/dist-packages (from torch>=1.3.0->stanza) (3.1.6)\n",
            "Requirement already satisfied: fsspec in /usr/local/lib/python3.11/dist-packages (from torch>=1.3.0->stanza) (2024.10.0)\n",
            "Requirement already satisfied: nvidia-cuda-nvrtc-cu12==12.4.127 in /usr/local/lib/python3.11/dist-packages (from torch>=1.3.0->stanza) (12.4.127)\n",
            "Requirement already satisfied: nvidia-cuda-runtime-cu12==12.4.127 in /usr/local/lib/python3.11/dist-packages (from torch>=1.3.0->stanza) (12.4.127)\n",
            "Requirement already satisfied: nvidia-cuda-cupti-cu12==12.4.127 in /usr/local/lib/python3.11/dist-packages (from torch>=1.3.0->stanza) (12.4.127)\n",
            "Requirement already satisfied: nvidia-cudnn-cu12==9.1.0.70 in /usr/local/lib/python3.11/dist-packages (from torch>=1.3.0->stanza) (9.1.0.70)\n",
            "Requirement already satisfied: nvidia-cublas-cu12==12.4.5.8 in /usr/local/lib/python3.11/dist-packages (from torch>=1.3.0->stanza) (12.4.5.8)\n",
            "Requirement already satisfied: nvidia-cufft-cu12==11.2.1.3 in /usr/local/lib/python3.11/dist-packages (from torch>=1.3.0->stanza) (11.2.1.3)\n",
            "Requirement already satisfied: nvidia-curand-cu12==10.3.5.147 in /usr/local/lib/python3.11/dist-packages (from torch>=1.3.0->stanza) (10.3.5.147)\n",
            "Requirement already satisfied: nvidia-cusolver-cu12==11.6.1.9 in /usr/local/lib/python3.11/dist-packages (from torch>=1.3.0->stanza) (11.6.1.9)\n",
            "Requirement already satisfied: nvidia-cusparse-cu12==12.3.1.170 in /usr/local/lib/python3.11/dist-packages (from torch>=1.3.0->stanza) (12.3.1.170)\n",
            "Requirement already satisfied: nvidia-cusparselt-cu12==0.6.2 in /usr/local/lib/python3.11/dist-packages (from torch>=1.3.0->stanza) (0.6.2)\n",
            "Requirement already satisfied: nvidia-nccl-cu12==2.21.5 in /usr/local/lib/python3.11/dist-packages (from torch>=1.3.0->stanza) (2.21.5)\n",
            "Requirement already satisfied: nvidia-nvtx-cu12==12.4.127 in /usr/local/lib/python3.11/dist-packages (from torch>=1.3.0->stanza) (12.4.127)\n",
            "Requirement already satisfied: nvidia-nvjitlink-cu12==12.4.127 in /usr/local/lib/python3.11/dist-packages (from torch>=1.3.0->stanza) (12.4.127)\n",
            "Requirement already satisfied: triton==3.2.0 in /usr/local/lib/python3.11/dist-packages (from torch>=1.3.0->stanza) (3.2.0)\n",
            "Requirement already satisfied: sympy==1.13.1 in /usr/local/lib/python3.11/dist-packages (from torch>=1.3.0->stanza) (1.13.1)\n",
            "Requirement already satisfied: mpmath<1.4,>=1.1.0 in /usr/local/lib/python3.11/dist-packages (from sympy==1.13.1->torch>=1.3.0->stanza) (1.3.0)\n",
            "Requirement already satisfied: charset-normalizer<4,>=2 in /usr/local/lib/python3.11/dist-packages (from requests->stanza) (3.4.1)\n",
            "Requirement already satisfied: idna<4,>=2.5 in /usr/local/lib/python3.11/dist-packages (from requests->stanza) (3.10)\n",
            "Requirement already satisfied: urllib3<3,>=1.21.1 in /usr/local/lib/python3.11/dist-packages (from requests->stanza) (2.3.0)\n",
            "Requirement already satisfied: certifi>=2017.4.17 in /usr/local/lib/python3.11/dist-packages (from requests->stanza) (2025.1.31)\n",
            "Requirement already satisfied: MarkupSafe>=2.0 in /usr/local/lib/python3.11/dist-packages (from jinja2->torch>=1.3.0->stanza) (3.0.2)\n"
          ]
        }
      ]
    },
    {
      "cell_type": "code",
      "source": [
        "import stanza\n",
        "\n",
        "stanza.download(\"es\") # Descargar el modelo en español\n",
        "\n",
        "nlp = stanza.Pipeline(\"es\", processors=\"tokenize,mwt,pos,lemma\") # Inicializar el pipeline en español"
      ],
      "metadata": {
        "id": "LqOF4syimtDd",
        "colab": {
          "base_uri": "https://localhost:8080/",
          "height": 487,
          "referenced_widgets": [
            "c3fdaa4778e14186ab1dd9cdf742696a",
            "66a8c19f763f4741a5d1aed767f3ceb8",
            "7f5b5c75729b475585d7d7ea38e41f18",
            "a7ab2212171f496c99db704bd2ea41aa",
            "fe623854a1cf44159dbdd7ba695e7e45",
            "68393bc909214ce3958b9d82b56b7c00",
            "38c5c86acecc45199c2cde5e971eb3fb",
            "860ed8b81f82404cb9c196c26a624e05",
            "0a2fa4c2470d4410bf5428921d21285c",
            "e5091a4865d841e9893dc718f3056b3b",
            "58940b446a0b4077a15f17f94131a2f8",
            "bb66a81fedeb40ef8448343c8d726bd6",
            "0719f0ba18f540489ea9b22363d2b6c7",
            "1fb2c788c2ac4195a7d0ce0e80929404",
            "45961f84c4434478b2056dca4821c30c",
            "e6067dfbc1ab4a21b9e71cda3b6fda2d",
            "31b1124242d4487988c9643ce4e15ac1",
            "6a00e4c494444591912a02023a124cc3",
            "72de48d6d4974f40879cf8ea7612ee0d",
            "263ce5c2d8b24849b06ce8dedc1352e6",
            "9f70fccef16a4a838caa87893ea6b611",
            "0e5fe488f08847819827096fbbd5bc16"
          ]
        },
        "outputId": "3abf3cf1-3a2a-41a4-ef69-a6715d43e5e7"
      },
      "execution_count": 73,
      "outputs": [
        {
          "output_type": "display_data",
          "data": {
            "text/plain": [
              "Downloading https://raw.githubusercontent.com/stanfordnlp/stanza-resources/main/resources_1.10.0.json:   0%|  …"
            ],
            "application/vnd.jupyter.widget-view+json": {
              "version_major": 2,
              "version_minor": 0,
              "model_id": "c3fdaa4778e14186ab1dd9cdf742696a"
            }
          },
          "metadata": {}
        },
        {
          "output_type": "stream",
          "name": "stderr",
          "text": [
            "INFO:stanza:Downloaded file to /root/stanza_resources/resources.json\n",
            "INFO:stanza:Downloading default packages for language: es (Spanish) ...\n",
            "INFO:stanza:File exists: /root/stanza_resources/es/default.zip\n",
            "INFO:stanza:Finished downloading models and saved to /root/stanza_resources\n",
            "INFO:stanza:Checking for updates to resources.json in case models have been updated.  Note: this behavior can be turned off with download_method=None or download_method=DownloadMethod.REUSE_RESOURCES\n"
          ]
        },
        {
          "output_type": "display_data",
          "data": {
            "text/plain": [
              "Downloading https://raw.githubusercontent.com/stanfordnlp/stanza-resources/main/resources_1.10.0.json:   0%|  …"
            ],
            "application/vnd.jupyter.widget-view+json": {
              "version_major": 2,
              "version_minor": 0,
              "model_id": "bb66a81fedeb40ef8448343c8d726bd6"
            }
          },
          "metadata": {}
        },
        {
          "output_type": "stream",
          "name": "stderr",
          "text": [
            "INFO:stanza:Downloaded file to /root/stanza_resources/resources.json\n",
            "INFO:stanza:Loading these models for language: es (Spanish):\n",
            "=================================\n",
            "| Processor | Package           |\n",
            "---------------------------------\n",
            "| tokenize  | combined          |\n",
            "| mwt       | combined          |\n",
            "| pos       | combined_charlm   |\n",
            "| lemma     | combined_nocharlm |\n",
            "=================================\n",
            "\n",
            "INFO:stanza:Using device: cpu\n",
            "INFO:stanza:Loading: tokenize\n",
            "INFO:stanza:Loading: mwt\n",
            "INFO:stanza:Loading: pos\n",
            "INFO:stanza:Loading: lemma\n",
            "INFO:stanza:Done loading processors!\n"
          ]
        }
      ]
    },
    {
      "cell_type": "code",
      "source": [
        "doc = nlp(texto) # Procesar el texto con Stanza\n",
        "\n",
        "# Filtrar palabras válidas: sin puntuación, sin espacios, sin caracteres vacíos\n",
        "palabras_validas = [word.text.lower() for sent in doc.sentences for word in sent.words if word.text.isalpha()]"
      ],
      "metadata": {
        "id": "sN9pRhVXZ2hi"
      },
      "execution_count": 74,
      "outputs": []
    },
    {
      "cell_type": "code",
      "source": [
        "# 1. Cuantas palabras hay en el texto? (descartando símbolos de puntuación).\n",
        "cantidad_palabras_total = len(palabras_validas)\n",
        "print(f\"Hay {cantidad_palabras_total} palabras en el texto descartando los símbolos de puntuación.\")"
      ],
      "metadata": {
        "colab": {
          "base_uri": "https://localhost:8080/"
        },
        "id": "pjN790nf6-mP",
        "outputId": "9e5581d0-d5f0-46dd-cf6d-61b7b5de22fa"
      },
      "execution_count": 75,
      "outputs": [
        {
          "output_type": "stream",
          "name": "stdout",
          "text": [
            "Hay 648 palabras en el texto descartando los símbolos de puntuación.\n"
          ]
        }
      ]
    },
    {
      "cell_type": "code",
      "source": [
        "# 2. Cuantas palabras diferentes hay?.\n",
        "# Contar palabras únicas con set()\n",
        "cantidad_palabras_unicas = len(set(palabras_validas))\n",
        "print(f\"Hay {cantidad_palabras_unicas} palabras diferentes.\")"
      ],
      "metadata": {
        "colab": {
          "base_uri": "https://localhost:8080/"
        },
        "id": "i9VsEwKrbQfR",
        "outputId": "f4777d72-04a5-4fa1-b916-e8dab8610333"
      },
      "execution_count": 76,
      "outputs": [
        {
          "output_type": "stream",
          "name": "stdout",
          "text": [
            "Hay 314 palabras diferentes.\n"
          ]
        }
      ]
    },
    {
      "cell_type": "code",
      "source": [
        "# 3. Después de lematizar las palabras, cuantas palabras diferentes hay?.\n",
        "# Obtener la forma lematizada de cada palabra, en minúsculas, sin signos de puntuación ni espacios\n",
        "palabras = {word.lemma.lower() for sent in doc.sentences for word in sent.words if word.lemma.isalpha()}\n",
        "\n",
        "cantidad_palabras_lematizadas = len(set(palabras))\n",
        "print(f\"Después de lematizar las palabras, hay {cantidad_palabras_lematizadas} palabras diferentes.\")"
      ],
      "metadata": {
        "colab": {
          "base_uri": "https://localhost:8080/"
        },
        "id": "j1FPy29Abiwx",
        "outputId": "61956738-64f7-4cef-9f46-0fc64245ba0d"
      },
      "execution_count": 77,
      "outputs": [
        {
          "output_type": "stream",
          "name": "stdout",
          "text": [
            "Después de lematizar las palabras, hay 274 palabras diferentes.\n"
          ]
        }
      ]
    },
    {
      "cell_type": "code",
      "source": [
        "# 4. ¿Cuál es la diversidad léxica del texto dado? (relación de palabras únicas con respecto al número total de palabras)\n",
        "diversidad_lexica = cantidad_palabras_unicas / cantidad_palabras_total\n",
        "print(f\"La diversidad léxica del texto es de {diversidad_lexica:.2f}.\")"
      ],
      "metadata": {
        "colab": {
          "base_uri": "https://localhost:8080/"
        },
        "id": "GBPJtklzikhZ",
        "outputId": "be8866fc-2b8a-425a-c01f-af88da3c8dbd"
      },
      "execution_count": 78,
      "outputs": [
        {
          "output_type": "stream",
          "name": "stdout",
          "text": [
            "La diversidad léxica del texto es de 0.48.\n"
          ]
        }
      ]
    },
    {
      "cell_type": "code",
      "source": [
        "# 5. ¿Cuáles son las 20 palabras más frecuentes en el texto? ¿Cuál es su frecuencia?\n",
        "from collections import Counter\n",
        "\n",
        "# Contar la frecuencia de cada palabra\n",
        "frecuencia_palabras = Counter(palabras_validas)\n",
        "\n",
        "# Obtener las 20 palabras más frecuentes\n",
        "top_20 = frecuencia_palabras.most_common(20)\n",
        "\n",
        "# Mostrar resultado\n",
        "print(\"Las 20 palabras más frecuentes y su frecuencia son:\")\n",
        "\n",
        "for i, (palabra, frecuencia) in enumerate(top_20, 1):\n",
        "    print(f\"{i} => {palabra}: {frecuencia}\")"
      ],
      "metadata": {
        "colab": {
          "base_uri": "https://localhost:8080/"
        },
        "id": "3mqCHyRZilQh",
        "outputId": "53feddef-5892-4eda-a45e-2b461d869078"
      },
      "execution_count": 79,
      "outputs": [
        {
          "output_type": "stream",
          "name": "stdout",
          "text": [
            "Las 20 palabras más frecuentes y su frecuencia son:\n",
            "1 => la: 35\n",
            "2 => de: 33\n",
            "3 => y: 20\n",
            "4 => con: 18\n",
            "5 => el: 17\n",
            "6 => se: 16\n",
            "7 => a: 14\n",
            "8 => una: 14\n",
            "9 => que: 11\n",
            "10 => no: 11\n",
            "11 => maestra: 10\n",
            "12 => raúl: 9\n",
            "13 => en: 9\n",
            "14 => padre: 8\n",
            "15 => su: 8\n",
            "16 => le: 7\n",
            "17 => sus: 7\n",
            "18 => me: 7\n",
            "19 => por: 6\n",
            "20 => raulito: 6\n"
          ]
        }
      ]
    },
    {
      "cell_type": "code",
      "source": [
        "# 6. Cual es el número promedio de palabras por oración?\n",
        "# Obtener todas las oraciones\n",
        "oraciones = list(doc.sentences)\n",
        "\n",
        "# Contar palabras en cada oración (excluyendo puntuación)\n",
        "num_palabras_por_oracion = [\n",
        "    len([word.text for word in oracion.words if word.text.isalpha()])\n",
        "    for oracion in oraciones\n",
        "]\n",
        "\n",
        "# Calcular el promedio\n",
        "promedio_palabras = sum(num_palabras_por_oracion) / len(num_palabras_por_oracion) if num_palabras_por_oracion else 0\n",
        "\n",
        "# Mostrar resultado\n",
        "print(f\"El número promedio de palabras por oración es {promedio_palabras:.2f}\")"
      ],
      "metadata": {
        "colab": {
          "base_uri": "https://localhost:8080/"
        },
        "id": "7B3kF_Zwi2AG",
        "outputId": "b61f9e25-361b-44d5-aafe-36272746aa34"
      },
      "execution_count": 81,
      "outputs": [
        {
          "output_type": "stream",
          "name": "stdout",
          "text": [
            "El número promedio de palabras por oración es 13.50\n"
          ]
        }
      ]
    },
    {
      "cell_type": "code",
      "source": [
        "# 7. Cual es la frecuencia de de sustantivos, adjetivos y verbos en el texto?\n",
        "# Clasificar palabras por su tipo gramatical\n",
        "sustantivos = [word.text.lower() for sent in doc.sentences for word in sent.words if word.upos == \"NOUN\" and word.text.isalpha()]\n",
        "adjetivos = [word.text.lower() for sent in doc.sentences for word in sent.words if word.upos == \"ADJ\" and word.text.isalpha()]\n",
        "verbos = [word.text.lower() for sent in doc.sentences for word in sent.words if word.upos == \"VERB\" and word.text.isalpha()]\n",
        "\n",
        "# Contar la frecuencia de cada tipo de palabra\n",
        "frecuencia_sustantivos = Counter(sustantivos)\n",
        "frecuencia_adjetivos = Counter(adjetivos)\n",
        "frecuencia_verbos = Counter(verbos)\n",
        "\n",
        "# Mostrar las 10 palabras más frecuentes por tipo\n",
        "print(f\"Sustantivos más frecuentes: {frecuencia_sustantivos.most_common(10)}\")\n",
        "print(f\"Adjetivos más frecuentes: {frecuencia_adjetivos.most_common(10)}\")\n",
        "print(f\"Verbos más frecuentes: {frecuencia_verbos.most_common(10)}\")\n",
        "\n",
        "print(\"\\n***********\")\n",
        "# Mostrar frecuencia total\n",
        "print(f\"La frecuencia de sustantivos es: {len(frecuencia_sustantivos)}\")\n",
        "print(f\"La frecuencia de adjetivos es: {len(frecuencia_adjetivos)}\")\n",
        "print(f\"La frecuencia de verbos es: {len(frecuencia_verbos)}\")"
      ],
      "metadata": {
        "colab": {
          "base_uri": "https://localhost:8080/"
        },
        "id": "fxdP5V8NjhjY",
        "outputId": "6204ea5c-b510-44f4-8fcf-729713090308"
      },
      "execution_count": 82,
      "outputs": [
        {
          "output_type": "stream",
          "name": "stdout",
          "text": [
            "Sustantivos más frecuentes: [('maestra', 9), ('padre', 8), ('hijo', 5), ('señor', 4), ('señorita', 3), ('niño', 2), ('bigotuda', 2), ('ojos', 2), ('calamidad', 2), ('cabellos', 2)]\n",
            "Adjetivos más frecuentes: [('solterona', 2), ('malhumorada', 2), ('celestes', 2), ('seca', 1), ('escrita', 1), ('prolija', 1), ('pedagógica', 1), ('sucio', 1), ('temeroso', 1), ('mismo', 1)]\n",
            "Verbos más frecuentes: [('llorar', 2), ('solicitó', 2), ('viene', 2), ('estudiar', 2), ('escribe', 2), ('come', 2), ('tiene', 2), ('ruego', 1), ('sirva', 1), ('presentar', 1)]\n",
            "\n",
            "***********\n",
            "La frecuencia de sustantivos es: 98\n",
            "La frecuencia de adjetivos es: 48\n",
            "La frecuencia de verbos es: 74\n"
          ]
        }
      ]
    }
  ]
}