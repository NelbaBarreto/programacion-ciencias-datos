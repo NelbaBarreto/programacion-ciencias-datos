{
  "nbformat": 4,
  "nbformat_minor": 0,
  "metadata": {
    "colab": {
      "provenance": []
    },
    "kernelspec": {
      "name": "python3",
      "display_name": "Python 3"
    },
    "language_info": {
      "name": "python"
    }
  },
  "cells": [
    {
      "cell_type": "markdown",
      "source": [
        "# Ejercicios"
      ],
      "metadata": {
        "id": "5Qut1H1T3mjC"
      }
    },
    {
      "cell_type": "markdown",
      "source": [
        "Resuelve los ejercicios y recuerda agregar comentarios."
      ],
      "metadata": {
        "id": "tQgOf8fA3l6Y"
      }
    },
    {
      "cell_type": "markdown",
      "source": [
        "1. El conjunto de datos del Titanic proporciona los valores de cuatro atributos categóricos para cada una de las 2201 personas a bordo del Titanic cuando chocó con un iceberg y se hundió. Los atributos son clase social (primera clase, segunda clase, tercera clase, miembro de la tripulación), edad (adulto o niño), sexo y si la persona sobrevivió o no."
      ],
      "metadata": {
        "id": "5VLgoAUN4PUp"
      }
    },
    {
      "cell_type": "code",
      "source": [
        "import numpy as np\n",
        "import pandas as pd"
      ],
      "metadata": {
        "id": "pwReFAL-NmNl"
      },
      "execution_count": 24,
      "outputs": []
    },
    {
      "cell_type": "markdown",
      "source": [
        "* Importar el archivo titanic.csv mediante pd.read_csv y asignarlo a la variable data.   \n",
        "\n"
      ],
      "metadata": {
        "id": "DN1kElHf46og"
      }
    },
    {
      "cell_type": "code",
      "source": [
        "url = 'https://raw.githubusercontent.com/NelbaBarreto/programacion-ciencias-datos/main/data/titanic.csv'\n",
        "data = pd.read_csv(url)"
      ],
      "metadata": {
        "id": "1fKi4knX5IFg"
      },
      "execution_count": 2,
      "outputs": []
    },
    {
      "cell_type": "markdown",
      "source": [
        "*  Utizar el atributo columns de data para mostrar el nombre de las columnas de la variable (dataframe) data.\n",
        "\n"
      ],
      "metadata": {
        "id": "4smJ1kPi5Ic5"
      }
    },
    {
      "cell_type": "code",
      "source": [
        "data.columns"
      ],
      "metadata": {
        "id": "9qUUY-Vf5eLR",
        "colab": {
          "base_uri": "https://localhost:8080/"
        },
        "outputId": "7c08dd61-a639-4eb1-f11d-ff85c44f8ab8"
      },
      "execution_count": 3,
      "outputs": [
        {
          "output_type": "execute_result",
          "data": {
            "text/plain": [
              "Index(['PassengerId', 'Survived', 'Pclass', 'Name', 'Sex', 'Age', 'SibSp',\n",
              "       'Parch', 'Ticket', 'Fare', 'Cabin', 'Embarked'],\n",
              "      dtype='object')"
            ]
          },
          "metadata": {},
          "execution_count": 3
        }
      ]
    },
    {
      "cell_type": "markdown",
      "source": [
        "*   Extraer la columna 'Age' del dataframe convertirlo en un array de numpy llamado age. (Ejemplo de Presidentes de EEUU).\n",
        "\n",
        "\n"
      ],
      "metadata": {
        "id": "8-g_zbf85eh7"
      }
    },
    {
      "cell_type": "code",
      "source": [
        "age = np.array(data['Age'])\n",
        "print(age)"
      ],
      "metadata": {
        "id": "lOLfmSKB5yJo",
        "colab": {
          "base_uri": "https://localhost:8080/"
        },
        "outputId": "99a1f399-9224-4e1f-cbe0-f4b8e8d2b0ff"
      },
      "execution_count": 4,
      "outputs": [
        {
          "output_type": "stream",
          "name": "stdout",
          "text": [
            "[22.   38.   26.   35.   35.     nan 54.    2.   27.   14.    4.   58.\n",
            " 20.   39.   14.   55.    2.     nan 31.     nan 35.   34.   15.   28.\n",
            "  8.   38.     nan 19.     nan   nan 40.     nan   nan 66.   28.   42.\n",
            "   nan 21.   18.   14.   40.   27.     nan  3.   19.     nan   nan   nan\n",
            "   nan 18.    7.   21.   49.   29.   65.     nan 21.   28.5   5.   11.\n",
            " 22.   38.   45.    4.     nan   nan 29.   19.   17.   26.   32.   16.\n",
            " 21.   26.   32.   25.     nan   nan  0.83 30.   22.   29.     nan 28.\n",
            " 17.   33.   16.     nan 23.   24.   29.   20.   46.   26.   59.     nan\n",
            " 71.   23.   34.   34.   28.     nan 21.   33.   37.   28.   21.     nan\n",
            " 38.     nan 47.   14.5  22.   20.   17.   21.   70.5  29.   24.    2.\n",
            " 21.     nan 32.5  32.5  54.   12.     nan 24.     nan 45.   33.   20.\n",
            " 47.   29.   25.   23.   19.   37.   16.   24.     nan 22.   24.   19.\n",
            " 18.   19.   27.    9.   36.5  42.   51.   22.   55.5  40.5    nan 51.\n",
            " 16.   30.     nan   nan 44.   40.   26.   17.    1.    9.     nan 45.\n",
            "   nan 28.   61.    4.    1.   21.   56.   18.     nan 50.   30.   36.\n",
            "   nan   nan  9.    1.    4.     nan   nan 45.   40.   36.   32.   19.\n",
            " 19.    3.   44.   58.     nan 42.     nan 24.   28.     nan 34.   45.5\n",
            " 18.    2.   32.   26.   16.   40.   24.   35.   22.   30.     nan 31.\n",
            " 27.   42.   32.   30.   16.   27.   51.     nan 38.   22.   19.   20.5\n",
            " 18.     nan 35.   29.   59.    5.   24.     nan 44.    8.   19.   33.\n",
            "   nan   nan 29.   22.   30.   44.   25.   24.   37.   54.     nan 29.\n",
            " 62.   30.   41.   29.     nan 30.   35.   50.     nan  3.   52.   40.\n",
            "   nan 36.   16.   25.   58.   35.     nan 25.   41.   37.     nan 63.\n",
            " 45.     nan  7.   35.   65.   28.   16.   19.     nan 33.   30.   22.\n",
            " 42.   22.   26.   19.   36.   24.   24.     nan 23.5   2.     nan 50.\n",
            "   nan   nan 19.     nan   nan  0.92   nan 17.   30.   30.   24.   18.\n",
            " 26.   28.   43.   26.   24.   54.   31.   40.   22.   27.   30.   22.\n",
            "   nan 36.   61.   36.   31.   16.     nan 45.5  38.   16.     nan   nan\n",
            " 29.   41.   45.   45.    2.   24.   28.   25.   36.   24.   40.     nan\n",
            "  3.   42.   23.     nan 15.   25.     nan 28.   22.   38.     nan   nan\n",
            " 40.   29.   45.   35.     nan 30.   60.     nan   nan 24.   25.   18.\n",
            " 19.   22.    3.     nan 22.   27.   20.   19.   42.    1.   32.   35.\n",
            "   nan 18.    1.   36.     nan 17.   36.   21.   28.   23.   24.   22.\n",
            " 31.   46.   23.   28.   39.   26.   21.   28.   20.   34.   51.    3.\n",
            " 21.     nan   nan   nan 33.     nan 44.     nan 34.   18.   30.   10.\n",
            "   nan 21.   29.   28.   18.     nan 28.   19.     nan 32.   28.     nan\n",
            " 42.   17.   50.   14.   21.   24.   64.   31.   45.   20.   25.   28.\n",
            "   nan  4.   13.   34.    5.   52.   36.     nan 30.   49.     nan 29.\n",
            " 65.     nan 50.     nan 48.   34.   47.   48.     nan 38.     nan 56.\n",
            "   nan  0.75   nan 38.   33.   23.   22.     nan 34.   29.   22.    2.\n",
            "  9.     nan 50.   63.   25.     nan 35.   58.   30.    9.     nan 21.\n",
            " 55.   71.   21.     nan 54.     nan 25.   24.   17.   21.     nan 37.\n",
            " 16.   18.   33.     nan 28.   26.   29.     nan 36.   54.   24.   47.\n",
            " 34.     nan 36.   32.   30.   22.     nan 44.     nan 40.5  50.     nan\n",
            " 39.   23.    2.     nan 17.     nan 30.    7.   45.   30.     nan 22.\n",
            " 36.    9.   11.   32.   50.   64.   19.     nan 33.    8.   17.   27.\n",
            "   nan 22.   22.   62.   48.     nan 39.   36.     nan 40.   28.     nan\n",
            "   nan 24.   19.   29.     nan 32.   62.   53.   36.     nan 16.   19.\n",
            " 34.   39.     nan 32.   25.   39.   54.   36.     nan 18.   47.   60.\n",
            " 22.     nan 35.   52.   47.     nan 37.   36.     nan 49.     nan 49.\n",
            " 24.     nan   nan 44.   35.   36.   30.   27.   22.   40.   39.     nan\n",
            "   nan   nan 35.   24.   34.   26.    4.   26.   27.   42.   20.   21.\n",
            " 21.   61.   57.   21.   26.     nan 80.   51.   32.     nan  9.   28.\n",
            " 32.   31.   41.     nan 20.   24.    2.     nan  0.75 48.   19.   56.\n",
            "   nan 23.     nan 18.   21.     nan 18.   24.     nan 32.   23.   58.\n",
            " 50.   40.   47.   36.   20.   32.   25.     nan 43.     nan 40.   31.\n",
            " 70.   31.     nan 18.   24.5  18.   43.   36.     nan 27.   20.   14.\n",
            " 60.   25.   14.   19.   18.   15.   31.    4.     nan 25.   60.   52.\n",
            " 44.     nan 49.   42.   18.   35.   18.   25.   26.   39.   45.   42.\n",
            " 22.     nan 24.     nan 48.   29.   52.   19.   38.   27.     nan 33.\n",
            "  6.   17.   34.   50.   27.   20.   30.     nan 25.   25.   29.   11.\n",
            "   nan 23.   23.   28.5  48.   35.     nan   nan   nan 36.   21.   24.\n",
            " 31.   70.   16.   30.   19.   31.    4.    6.   33.   23.   48.    0.67\n",
            " 28.   18.   34.   33.     nan 41.   20.   36.   16.   51.     nan 30.5\n",
            "   nan 32.   24.   48.   57.     nan 54.   18.     nan  5.     nan 43.\n",
            " 13.   17.   29.     nan 25.   25.   18.    8.    1.   46.     nan 16.\n",
            "   nan   nan 25.   39.   49.   31.   30.   30.   34.   31.   11.    0.42\n",
            " 27.   31.   39.   18.   39.   33.   26.   39.   35.    6.   30.5    nan\n",
            " 23.   31.   43.   10.   52.   27.   38.   27.    2.     nan   nan  1.\n",
            "   nan 62.   15.    0.83   nan 23.   18.   39.   21.     nan 32.     nan\n",
            " 20.   16.   30.   34.5  17.   42.     nan 35.   28.     nan  4.   74.\n",
            "  9.   16.   44.   18.   45.   51.   24.     nan 41.   21.   48.     nan\n",
            " 24.   42.   27.   31.     nan  4.   26.   47.   33.   47.   28.   15.\n",
            " 20.   19.     nan 56.   25.   33.   22.   28.   25.   39.   27.   19.\n",
            "   nan 26.   32.  ]\n"
          ]
        }
      ]
    },
    {
      "cell_type": "markdown",
      "source": [
        "*   Calcula e imprima la media de edades de los pasajeros del titanic.\n",
        "*   Calcula e imprima la mediana de edades de los pasajeros del titanic.\n",
        "*   Determine e imprima la menor edad entre los pasajeros del titanic.\n",
        "*   Determine e imprima la mayor edad entre los pasajeros del titanic."
      ],
      "metadata": {
        "id": "GjY0zcMI5xW0"
      }
    },
    {
      "cell_type": "code",
      "source": [
        "print(\"Estadísticas descriptivas de la columna edad\")\n",
        "print('Media:', np.nanmean(age))\n",
        "print('Mediana:', np.nanmedian(age))\n",
        "print('Min:', np.nanmin(age))\n",
        "print('Max:', np.nanmax(age))"
      ],
      "metadata": {
        "id": "sReHHUbD6ZTI",
        "colab": {
          "base_uri": "https://localhost:8080/"
        },
        "outputId": "6ba982f7-4c21-4f07-f4d6-8371ae12c9d9"
      },
      "execution_count": 5,
      "outputs": [
        {
          "output_type": "stream",
          "name": "stdout",
          "text": [
            "Estadísticas descriptivas de la columna edad\n",
            "Media: 29.69911764705882\n",
            "Mediana: 28.0\n",
            "Min: 0.42\n",
            "Max: 80.0\n"
          ]
        }
      ]
    },
    {
      "cell_type": "markdown",
      "source": [
        "*   Describa brevemente los resultados encontrados en el punto anterior."
      ],
      "metadata": {
        "id": "lWKUE5Rr6ndC"
      }
    },
    {
      "cell_type": "markdown",
      "source": [
        "La edad promedio es aproximadamente 29.7 años. La mediana es 28 años, lo que sugiere que la distribución puede estar sesgada, ya que la media es mayor que la mediana.\n",
        "\n"
      ],
      "metadata": {
        "id": "1gp-G2zr71ao"
      }
    },
    {
      "cell_type": "markdown",
      "source": [
        "\n",
        "*   Describe los percentiles 25, la mediana y el percentil 75. Luego describe qué significan estos valores.\n",
        "\n",
        "\n"
      ],
      "metadata": {
        "id": "wUjKqF_F72Ut"
      }
    },
    {
      "cell_type": "code",
      "source": [
        "print(\"Percentil 25:\", np.nanpercentile(age, 25))\n",
        "print(\"Mediana:\", np.nanmedian(age))\n",
        "print(\"Percentil 75:\", np.nanpercentile(age, 75))"
      ],
      "metadata": {
        "id": "ZHjjYWEK71pB",
        "colab": {
          "base_uri": "https://localhost:8080/"
        },
        "outputId": "a1a629f9-69db-45e1-d611-a16dd6856958"
      },
      "execution_count": 6,
      "outputs": [
        {
          "output_type": "stream",
          "name": "stdout",
          "text": [
            "Percentil 25: 20.125\n",
            "Mediana: 28.0\n",
            "Percentil 75: 38.0\n"
          ]
        }
      ]
    },
    {
      "cell_type": "markdown",
      "source": [
        "\n",
        "*  Elabora un histograma con el array age. Obs: Fijarse en el ejemplo de los presidentes y modificar las etiquetas de los ejes y el título del gráfico."
      ],
      "metadata": {
        "id": "42bwhZ-k8Dy9"
      }
    },
    {
      "cell_type": "code",
      "source": [
        "plt.hist(age)\n",
        "plt.title(\"Distribución de edades de los pasajeros del Titanic\")\n",
        "plt.xlabel(\"Edad\")\n",
        "plt.ylabel(\"Cantidad\")"
      ],
      "metadata": {
        "id": "4C4hqw_u6aLD",
        "colab": {
          "base_uri": "https://localhost:8080/",
          "height": 489
        },
        "outputId": "a089b152-f138-4397-e13e-1b47f5ff67ec"
      },
      "execution_count": 7,
      "outputs": [
        {
          "output_type": "execute_result",
          "data": {
            "text/plain": [
              "Text(0, 0.5, 'Cantidad')"
            ]
          },
          "metadata": {},
          "execution_count": 7
        },
        {
          "output_type": "display_data",
          "data": {
            "text/plain": [
              "<Figure size 640x480 with 1 Axes>"
            ],
            "image/png": "[encoded data removed]"
          },
          "metadata": {}
        }
      ]
    },
    {
      "cell_type": "markdown",
      "source": [
        "*   Extraer y asignar la columna 'Survived' (de data) a la variable surv.\n",
        "\n"
      ],
      "metadata": {
        "id": "lDnXc-wS8w7_"
      }
    },
    {
      "cell_type": "code",
      "source": [
        "surv = np.array(data[\"Survived\"])"
      ],
      "metadata": {
        "id": "t5wX6seD8x3Y"
      },
      "execution_count": 12,
      "outputs": []
    },
    {
      "cell_type": "markdown",
      "source": [
        "*   Visualice el contenido de surv.\n",
        "\n",
        "\n"
      ],
      "metadata": {
        "id": "e45hcFRx89b_"
      }
    },
    {
      "cell_type": "code",
      "source": [
        "print(surv)"
      ],
      "metadata": {
        "id": "68TlDmuA9DxO",
        "colab": {
          "base_uri": "https://localhost:8080/"
        },
        "outputId": "7aa7cbf7-ba73-4fce-9b6d-1f7f5ddc8f52"
      },
      "execution_count": 14,
      "outputs": [
        {
          "output_type": "stream",
          "name": "stdout",
          "text": [
            "[0 1 1 1 0 0 0 0 1 1 1 1 0 0 0 1 0 1 0 1 0 1 1 1 0 1 0 0 1 0 0 1 1 0 0 0 1\n",
            " 0 0 1 0 0 0 1 1 0 0 1 0 0 0 0 1 1 0 1 1 0 1 0 0 1 0 0 0 1 1 0 1 0 0 0 0 0\n",
            " 1 0 0 0 1 1 0 1 1 0 1 1 0 0 1 0 0 0 0 0 0 0 0 1 1 0 0 0 0 0 0 0 1 1 0 1 0\n",
            " 0 0 0 0 0 0 0 0 0 0 0 0 1 0 1 0 1 1 0 0 0 0 1 0 0 1 0 0 0 0 1 1 0 0 0 1 0\n",
            " 0 0 0 1 0 0 0 0 1 0 0 0 0 1 0 0 0 1 1 0 0 0 0 0 1 0 0 0 0 0 0 0 0 0 0 1 1\n",
            " 0 1 1 0 0 1 0 1 1 1 1 0 0 1 0 0 0 0 0 1 0 0 1 1 1 0 1 0 0 0 1 1 0 1 0 1 0\n",
            " 0 0 1 0 1 0 0 0 1 0 0 1 0 0 0 1 0 0 0 1 0 0 0 0 0 1 1 0 0 0 0 0 0 1 1 1 1\n",
            " 1 0 1 0 0 0 0 0 1 1 1 0 1 1 0 1 1 0 0 0 1 0 0 0 1 0 0 1 0 1 1 1 1 0 0 0 0\n",
            " 0 0 1 1 1 1 0 1 0 1 1 1 0 1 1 1 0 0 0 1 1 0 1 1 0 0 1 1 0 1 0 1 1 1 1 0 0\n",
            " 0 1 0 0 1 1 0 1 1 0 0 0 1 1 1 1 0 0 0 0 0 0 0 1 0 1 1 0 0 0 0 0 0 1 1 1 1\n",
            " 1 0 0 0 0 1 1 0 0 0 1 1 0 1 0 0 0 1 0 1 1 1 0 1 1 0 0 0 0 1 1 0 0 0 0 0 0\n",
            " 1 0 0 0 0 1 0 1 0 1 1 0 0 0 0 0 0 0 0 1 1 0 1 1 1 1 0 0 1 0 1 0 0 1 0 0 1\n",
            " 1 1 1 1 1 1 0 0 0 1 0 1 0 1 1 0 1 0 0 0 0 0 0 0 0 1 0 0 1 1 0 0 0 0 0 1 0\n",
            " 0 0 1 1 0 1 0 0 1 0 0 0 0 0 0 1 0 0 0 0 0 0 0 1 0 1 1 0 1 1 0 1 1 0 0 1 0\n",
            " 1 0 1 0 0 1 0 0 1 0 0 0 1 0 0 1 0 1 0 1 0 1 1 0 0 1 0 0 1 1 0 1 1 0 0 1 1\n",
            " 0 1 0 1 1 0 0 0 0 0 0 0 0 0 1 1 1 1 1 0 0 1 1 0 1 1 1 0 0 0 1 0 1 0 0 0 1\n",
            " 0 0 0 0 1 0 0 1 1 0 0 0 1 0 0 1 1 1 0 0 1 0 0 1 0 0 1 0 0 1 1 0 0 0 0 1 0\n",
            " 0 1 0 1 0 0 1 0 0 0 0 0 1 0 1 1 1 0 1 0 1 0 1 0 1 0 0 0 0 0 0 1 0 0 0 1 0\n",
            " 0 0 0 1 1 0 0 1 0 0 0 1 0 1 0 1 0 0 0 0 0 0 0 1 1 1 1 0 0 0 0 1 0 0 1 1 0\n",
            " 0 0 0 1 1 1 1 1 0 1 0 0 0 1 1 0 0 1 0 0 0 1 0 1 1 0 0 1 0 0 0 0 0 0 1 0 0\n",
            " 1 0 1 0 1 0 0 1 0 0 1 1 0 0 1 1 0 0 0 1 0 0 1 1 0 1 0 0 0 0 0 0 0 0 1 0 0\n",
            " 1 0 1 1 1 0 0 0 0 1 0 1 0 0 0 0 0 0 0 1 1 0 0 0 1 1 1 1 0 0 0 0 1 0 0 0 0\n",
            " 0 0 0 0 0 0 1 1 0 1 0 0 0 1 1 1 1 1 0 0 0 1 0 0 1 1 0 0 1 0 0 0 0 0 0 1 0\n",
            " 0 0 1 0 1 1 1 1 0 0 0 1 0 0 1 1 0 0 1 0 1 0 0 1 1 0 0 0 1 1 0 0 0 0 0 0 1\n",
            " 0 1 0]\n"
          ]
        }
      ]
    },
    {
      "cell_type": "markdown",
      "source": [
        "*   Calcule e imprima el total de pasajeros en el titanic."
      ],
      "metadata": {
        "id": "gZtcxYo19EII"
      }
    },
    {
      "cell_type": "code",
      "source": [
        "print(\"La cantidad de pasajeros en el Titanic es:\", data[\"PassengerId\"].count())"
      ],
      "metadata": {
        "colab": {
          "base_uri": "https://localhost:8080/"
        },
        "id": "DVPFJkXQ9MJ7",
        "outputId": "421c5a82-d11d-429a-fbd3-999bb5edb649"
      },
      "execution_count": 17,
      "outputs": [
        {
          "output_type": "stream",
          "name": "stdout",
          "text": [
            "La cantidad de pasajeros en el Titanic es: 891\n"
          ]
        }
      ]
    },
    {
      "cell_type": "markdown",
      "source": [
        "*   Calcule e imprima la cantidad de pasajeros sobrevivientes.\n",
        "\n"
      ],
      "metadata": {
        "id": "41DQ0fFT9McK"
      }
    },
    {
      "cell_type": "code",
      "source": [
        "n_sobrevivientes = np.sum(surv == 1)\n",
        "print(\"La cantidad de pasajeros sobrevivientes es:\", n_sobrevivientes)"
      ],
      "metadata": {
        "colab": {
          "base_uri": "https://localhost:8080/"
        },
        "id": "h_plGS_u9YPV",
        "outputId": "1dde3376-aa7a-43cf-ce5a-86ec3d01b518"
      },
      "execution_count": 20,
      "outputs": [
        {
          "output_type": "stream",
          "name": "stdout",
          "text": [
            "La cantidad de pasajeros sobrevivientes es: 342\n"
          ]
        }
      ]
    },
    {
      "cell_type": "markdown",
      "source": [
        "*   Calcule e imprima la cantidad de pasajeros muertos."
      ],
      "metadata": {
        "id": "rVRldO_C9Ydq"
      }
    },
    {
      "cell_type": "code",
      "source": [
        "n_muertos = np.sum(surv == 0)\n",
        "print(\"La cantidad de pasajeros muertos es:\", n_muertos)"
      ],
      "metadata": {
        "colab": {
          "base_uri": "https://localhost:8080/"
        },
        "id": "qKaainf99b0y",
        "outputId": "9b400d76-349f-471b-f891-6f67e7cd684d"
      },
      "execution_count": 21,
      "outputs": [
        {
          "output_type": "stream",
          "name": "stdout",
          "text": [
            "La cantidad de pasajeros muertos es: 549\n"
          ]
        }
      ]
    },
    {
      "cell_type": "markdown",
      "source": [
        "*   En una lista llamada sobrevientes, guardar el número de sobrevivientes y el número de muertos. En otra lista llamada labels_sobre, guardar dos cadenas de caracteres que serán las etiquetas a ser usadas en el gráfico a realizar.\n",
        "\n",
        "\n"
      ],
      "metadata": {
        "id": "VuDYL3yx9bQV"
      }
    },
    {
      "cell_type": "code",
      "source": [
        "sobrevivientes = [n_sobrevivientes, n_muertos]\n",
        "labels_sobre = [\"Número de sobrevivientes\", \"Número de muertos\"]"
      ],
      "metadata": {
        "id": "2d6ujDt29hXe"
      },
      "execution_count": 23,
      "outputs": []
    },
    {
      "cell_type": "markdown",
      "source": [
        "\n",
        "*  Importar la librería matplotlib.pyplot como plt.\n",
        "*  A continuación, crearemos un gráfico de barras. La sintaxis es la siguiente plt.bar toma dos argumentos: las etiquetas a ser usadas en el gráfico (lista) y los valores a ser graficados (lista), es decir, plt.bar(etiquetas, valores). Para mostrar los resultados de plt, se debe usar el método plt.show().\n",
        "\n"
      ],
      "metadata": {
        "id": "ZGsfKtRq98KC"
      }
    },
    {
      "cell_type": "code",
      "source": [
        "import matplotlib.pyplot as plt\n",
        "\n",
        "plt.bar(labels_sobre, sobrevivientes)\n",
        "\n",
        "plt.show()"
      ],
      "metadata": {
        "id": "iIixhM5m9-Up",
        "colab": {
          "base_uri": "https://localhost:8080/",
          "height": 430
        },
        "outputId": "a797d997-8702-4a0c-932b-742460ff3e5f"
      },
      "execution_count": 25,
      "outputs": [
        {
          "output_type": "display_data",
          "data": {
            "text/plain": [
              "<Figure size 640x480 with 1 Axes>"
            ],
            "image/png": "[encoded data removed]"
          },
          "metadata": {}
        }
      ]
    },
    {
      "cell_type": "markdown",
      "source": [
        "*   Describa el gráfico brevemente.\n"
      ],
      "metadata": {
        "id": "Ql2DIZGQBMA2"
      }
    },
    {
      "cell_type": "markdown",
      "source": [
        "En el gráfico se puede observar que la mayoría de los pasajeros no sobrevivieron."
      ],
      "metadata": {
        "id": "sBLeJuVTXzGX"
      }
    },
    {
      "cell_type": "markdown",
      "source": [
        "2. Crea un array NumPy unidimensional con números aleatorios enteros y calcula su raíz cuadrada."
      ],
      "metadata": {
        "id": "Uv_HFqA6Be3K"
      }
    },
    {
      "cell_type": "code",
      "source": [
        "# Crear un array NumPy unidimensional con números aleatorios enteros\n",
        "array = np.random.randint(1, 101, size=10)\n",
        "print(\"Array original:\", array)\n",
        "\n",
        "# Calcular la raíz cuadrada del array\n",
        "print(\"\\nRaíz cuadrada de los elementos del array:\", np.sqrt(array))"
      ],
      "metadata": {
        "colab": {
          "base_uri": "https://localhost:8080/"
        },
        "id": "0To7qhJMY3U1",
        "outputId": "51a886e8-1d49-4252-e82f-a971aa35508f"
      },
      "execution_count": 36,
      "outputs": [
        {
          "output_type": "stream",
          "name": "stdout",
          "text": [
            "Array original: [12 59 11 98 72 31 30 43 80  1]\n",
            "\n",
            "Raíz cuadrada de los elementos del array: [3.46410162 7.68114575 3.31662479 9.89949494 8.48528137 5.56776436\n",
            " 5.47722558 6.55743852 8.94427191 1.        ]\n"
          ]
        }
      ]
    },
    {
      "cell_type": "markdown",
      "source": [
        "3. Crea un array NumPy unidimensional y calcula el cubo de sus elementos."
      ],
      "metadata": {
        "id": "DKnP5MwlBhGY"
      }
    },
    {
      "cell_type": "code",
      "source": [
        "# Crear un array NumPy unidimensional con números aleatorios\n",
        "array = np.random.randint(1, 101, size=10)\n",
        "print(\"Array original:\", array)\n",
        "\n",
        "# Calcular el cubo del array\n",
        "print(\"\\nCubo de los elementos del array:\", np.cbrt(array))"
      ],
      "metadata": {
        "id": "W38WHek4BvCX",
        "colab": {
          "base_uri": "https://localhost:8080/"
        },
        "outputId": "5fab7679-34a8-49d7-d120-8c1abb117bc1"
      },
      "execution_count": 37,
      "outputs": [
        {
          "output_type": "stream",
          "name": "stdout",
          "text": [
            "Array original: [96 40 14 69 80 11 87 67 79 43]\n",
            "\n",
            "Cubo de los elementos del array: [4.57885697 3.41995189 2.41014226 4.10156593 4.30886938 2.22398009\n",
            " 4.43104762 4.0615481  4.29084043 3.50339806]\n"
          ]
        }
      ]
    },
    {
      "cell_type": "markdown",
      "source": [
        "4. Crea un array NumPy unidimensional con números aleatorios y encuentra su valor máximo, mínimo y media."
      ],
      "metadata": {
        "id": "UI0SGiaeBv2r"
      }
    },
    {
      "cell_type": "code",
      "source": [
        "# Crear un array NumPy unidimensional con números aleatorios\n",
        "array = np.random.randint(1, 101, size=10)\n",
        "print(\"Array original:\", array)\n",
        "\n",
        "print(\"\\nValor máximo:\", np.max(array))\n",
        "print(\"Valor mínimo:\", np.min(array))\n",
        "print(\"Media:\", np.mean(array))"
      ],
      "metadata": {
        "id": "fPlTx6g4B4YO",
        "colab": {
          "base_uri": "https://localhost:8080/"
        },
        "outputId": "1cf7e657-f5ee-4a76-d73c-b3e96728400f"
      },
      "execution_count": 38,
      "outputs": [
        {
          "output_type": "stream",
          "name": "stdout",
          "text": [
            "Array original: [ 1  1 78 76 63 99 74 63 87 23]\n",
            "\n",
            "Valor máximo: 99\n",
            "Valor mínimo: 1\n",
            "Media: 56.5\n"
          ]
        }
      ]
    },
    {
      "cell_type": "markdown",
      "source": [
        "5. Crea un array NumPy bidimensional de 12 números random. Luego modifica la forma de la matriz a 3x4. Por último,  suma el escalar 10 utilizando la difusión."
      ],
      "metadata": {
        "id": "AcsayzK0CAYu"
      }
    },
    {
      "cell_type": "code",
      "source": [
        "# Crear un array NumPy bidimensional con números aleatorios\n",
        "array = np.random.randint(1, 101, size=(6, 2))\n",
        "print(\"Array original:\\n\", array)\n",
        "\n",
        "#  Modificar la forma de la matriz a 3x4\n",
        "array2 = array.reshape((3, 4))\n",
        "print(\"\\nArray 3x4:\\n\", array2)\n",
        "\n",
        "# Sumar el escalar 10\n",
        "print(\"\\nArray 3x4 + 10:\\n\", array2 + 10)"
      ],
      "metadata": {
        "id": "BbowQ-_5Cf6-",
        "colab": {
          "base_uri": "https://localhost:8080/"
        },
        "outputId": "07c83915-e258-47b1-b010-0cc6191b0896"
      },
      "execution_count": 46,
      "outputs": [
        {
          "output_type": "stream",
          "name": "stdout",
          "text": [
            "Array original:\n",
            " [[79 86]\n",
            " [ 9 12]\n",
            " [94 71]\n",
            " [36 97]\n",
            " [80 21]\n",
            " [21 95]]\n",
            "\n",
            "Array 3x4:\n",
            " [[79 86  9 12]\n",
            " [94 71 36 97]\n",
            " [80 21 21 95]]\n",
            "\n",
            "Array 3x4 + 10:\n",
            " [[ 89  96  19  22]\n",
            " [104  81  46 107]\n",
            " [ 90  31  31 105]]\n"
          ]
        }
      ]
    }
  ]
}