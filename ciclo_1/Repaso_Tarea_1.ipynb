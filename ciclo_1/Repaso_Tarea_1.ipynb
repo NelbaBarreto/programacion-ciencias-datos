{
  "nbformat": 4,
  "nbformat_minor": 0,
  "metadata": {
    "colab": {
      "provenance": []
    },
    "kernelspec": {
      "name": "python3",
      "display_name": "Python 3"
    },
    "language_info": {
      "name": "python"
    }
  },
  "cells": [
    {
      "cell_type": "markdown",
      "source": [
        "# Ejercicios\n",
        "\n",
        "Resuelve los siguientes ejercicios. Recuerda comentar debidamente."
      ],
      "metadata": {
        "id": "dtGNKTeBYRRX"
      }
    },
    {
      "cell_type": "code",
      "source": [
        "import numpy as np"
      ],
      "metadata": {
        "id": "MH1CvEclNBti"
      },
      "execution_count": 9,
      "outputs": []
    },
    {
      "cell_type": "markdown",
      "source": [
        "1. Crea un array de tamaño 3x3 lleno de unos."
      ],
      "metadata": {
        "id": "BvXI5pepbvX5"
      }
    },
    {
      "cell_type": "code",
      "source": [
        "# np.ones devuelve un nuevo array del tamaño y tipo dados, rellenado con unos\n",
        "array = np.ones((3, 3))\n",
        "\n",
        "print(f\"Array:\\n{array}\\n\\nTamaño:{array.shape}\")"
      ],
      "metadata": {
        "colab": {
          "base_uri": "https://localhost:8080/"
        },
        "id": "p7I8aRnUNGSq",
        "outputId": "140c7d9a-77dd-4f54-f3fd-3b8060000ca5"
      },
      "execution_count": 10,
      "outputs": [
        {
          "output_type": "stream",
          "name": "stdout",
          "text": [
            "Array:\n",
            "[[1. 1. 1.]\n",
            " [1. 1. 1.]\n",
            " [1. 1. 1.]]\n",
            "\n",
            "Tamaño:(3, 3)\n"
          ]
        }
      ]
    },
    {
      "cell_type": "markdown",
      "source": [
        "2. Crea un array de tamaño 4x4 lleno de ceros del tipo entero."
      ],
      "metadata": {
        "id": "QLH5DHsCb3DO"
      }
    },
    {
      "cell_type": "code",
      "source": [
        "# numpy.zeros devuelve un nuevo array del tamaño y tipo dados, rellenado con ceros\n",
        "array = np.zeros((4, 4), dtype=int)\n",
        "\n",
        "print(f\"Array:\\n{array}\\n\\nTamaño:{array.shape}\")"
      ],
      "metadata": {
        "colab": {
          "base_uri": "https://localhost:8080/"
        },
        "id": "uBiF6OIoN79T",
        "outputId": "bd6e56be-ac48-4ff6-9262-b8f97767fca3"
      },
      "execution_count": 11,
      "outputs": [
        {
          "output_type": "stream",
          "name": "stdout",
          "text": [
            "Array:\n",
            "[[0 0 0 0]\n",
            " [0 0 0 0]\n",
            " [0 0 0 0]\n",
            " [0 0 0 0]]\n",
            "\n",
            "Tamaño:(4, 4)\n"
          ]
        }
      ]
    },
    {
      "cell_type": "markdown",
      "source": [
        "3. Crea un array de tamaño 2x2 lleno del valor 5."
      ],
      "metadata": {
        "id": "9J56qkZJcB0V"
      }
    },
    {
      "cell_type": "code",
      "source": [
        "# np.full devuelve un nuevo array del tamaño y tipo dados, rellenado con el valor proveído.\n",
        "array = np.full((2, 2), 5)\n",
        "\n",
        "print(f\"Array:\\n{array}\\n\\nTamaño:{array.shape}\")"
      ],
      "metadata": {
        "colab": {
          "base_uri": "https://localhost:8080/"
        },
        "id": "XOJ90vWbOji4",
        "outputId": "60d0822c-a400-4846-b75e-322705d0a8a9"
      },
      "execution_count": 12,
      "outputs": [
        {
          "output_type": "stream",
          "name": "stdout",
          "text": [
            "Array:\n",
            "[[5 5]\n",
            " [5 5]]\n",
            "\n",
            "Tamaño:(2, 2)\n"
          ]
        }
      ]
    },
    {
      "cell_type": "markdown",
      "source": [
        "4. Crea un array que contenga los números del 1 al 9. Luego, imprime sus atributos ndim, shape y size. Por último, remodela el array en una matriz (3x3)."
      ],
      "metadata": {
        "id": "hfnqLrQkcLib"
      }
    },
    {
      "cell_type": "code",
      "source": [
        "# numpy.arange devuelve valores equiespaciados dentro de un intervalo dado.\n",
        "# Crea un array que contenga los números del 1 al 9.\n",
        "array = np.arange(1, 10)\n",
        "\n",
        "# Imprimir los atributos ndim, shape y size.\n",
        "# ndim => Número de dimensiones de la matriz.\n",
        "# shape => Devuelve una tupla con el tamaño del array.\n",
        "# size => Número de elementos de la matriz.\n",
        "print(\"Array original:\")\n",
        "print(f\"Ndim: {array.ndim}\\nShape: {array.shape}\\nSize: {array.size}\")\n",
        "\n",
        "# Remodelar el array en una matriz (3x3).\n",
        "print(\"\\n\\nArray al remodelar la matriz (3x3):\")\n",
        "array = array.reshape(3, 3)\n",
        "print(f\"Ndim: {array.ndim}\\nShape: {array.shape}\\nSize: {array.size}\")"
      ],
      "metadata": {
        "colab": {
          "base_uri": "https://localhost:8080/"
        },
        "id": "3hsQ1VbMPcX5",
        "outputId": "b138416d-79c0-4859-86cf-ca931ab19833"
      },
      "execution_count": 13,
      "outputs": [
        {
          "output_type": "stream",
          "name": "stdout",
          "text": [
            "Array original:\n",
            "Ndim: 1\n",
            "Shape: (9,)\n",
            "Size: 9\n",
            "\n",
            "\n",
            "Array al remodelar la matriz (3x3):\n",
            "Ndim: 2\n",
            "Shape: (3, 3)\n",
            "Size: 9\n"
          ]
        }
      ]
    },
    {
      "cell_type": "markdown",
      "source": [
        "5. Crea un array que contenga 10 valores equiespaciados entre 0 y 20. Además, se debe mostrar la razón aritmética (incremento)."
      ],
      "metadata": {
        "id": "L7kIZ8cJcxig"
      }
    },
    {
      "cell_type": "code",
      "source": [
        "# Crea un array que contenga 10 valores equiespaciados entre 0 y 20.\n",
        "# numpy.linspace devuelve num muestras equiespaciadas, calculadas sobre el intervalo [start, stop].\n",
        "array = np.linspace(0, 20, num=10, retstep=True)\n",
        "print(f\"Ndim: {array[0].ndim}\\nShape: {array[0].shape}\\nSize: {array[0].size}\")\n",
        "print(f\"\\nArray:\\n{array[0]}\")"
      ],
      "metadata": {
        "colab": {
          "base_uri": "https://localhost:8080/"
        },
        "id": "nUEpkbWnSHUt",
        "outputId": "93e70fd6-d82e-4f06-de6d-8757fc72fd15"
      },
      "execution_count": 14,
      "outputs": [
        {
          "output_type": "stream",
          "name": "stdout",
          "text": [
            "Ndim: 1\n",
            "Shape: (10,)\n",
            "Size: 10\n",
            "\n",
            "Array:\n",
            "[ 0.          2.22222222  4.44444444  6.66666667  8.88888889 11.11111111\n",
            " 13.33333333 15.55555556 17.77777778 20.        ]\n"
          ]
        }
      ]
    },
    {
      "cell_type": "markdown",
      "source": [
        "6. Crea una pila de 3 matrices que tengan 2 filas y 3 columnas. Los elementos de la matriz 3D deben ser estar en el orden indicado por los elementos del intervalo [1, 18]."
      ],
      "metadata": {
        "id": "Mn6Z0gQzdY7B"
      }
    },
    {
      "cell_type": "code",
      "source": [
        "# Crear una lista de números del 1 al 18\n",
        "array = np.arange(1, 19)\n",
        "\n",
        "# Redimensionar el array a una matriz 3D con la forma (3, 2, 3)\n",
        "matriz_3d = array.reshape((3, 2, 3))\n",
        "\n",
        "print(matriz_3d)\n",
        "print(\"\\nDimensiones: \", matriz_3d.ndim)\n"
      ],
      "metadata": {
        "id": "mMusB9BUzmRM",
        "colab": {
          "base_uri": "https://localhost:8080/"
        },
        "outputId": "6dadf0bb-fa53-4fac-b8df-3952503d5676"
      },
      "execution_count": 15,
      "outputs": [
        {
          "output_type": "stream",
          "name": "stdout",
          "text": [
            "[[[ 1  2  3]\n",
            "  [ 4  5  6]]\n",
            "\n",
            " [[ 7  8  9]\n",
            "  [10 11 12]]\n",
            "\n",
            " [[13 14 15]\n",
            "  [16 17 18]]]\n",
            "\n",
            "Dimensiones:  3\n"
          ]
        }
      ]
    },
    {
      "cell_type": "markdown",
      "source": [
        "7. Dado un array bidimensional mat, selecciona las filas pares y las columnas impares usando solamente la indexación.\n",
        "\n",
        "mat = np.array([[1, 2, 3, 4],\n",
        "                [5, 6, 7, 8],\n",
        "                [9, 10, 11, 12],\n",
        "                [13, 14, 15, 16]])"
      ],
      "metadata": {
        "id": "vN22KDlSdr9i"
      }
    },
    {
      "cell_type": "code",
      "source": [
        "array = np.array([[1, 2, 3, 4], [5, 6, 7, 8], [9, 10, 11, 12], [13, 14, 15, 16]])\n",
        "\n",
        "# Seleccionar filas pares y columnas impares\n",
        "# 1. Utiliza el operador de slicing : para seleccionar todas las filas.\n",
        "# 2. Usa el operador de slicing con pasos ::2 para seleccionar las filas pares.\n",
        "# 3. Utiliza el operador de slicing con pasos 1::2 para seleccionar las columnas impares.\n",
        "result = array[::2, 1::2]\n",
        "\n",
        "print(result)\n"
      ],
      "metadata": {
        "colab": {
          "base_uri": "https://localhost:8080/"
        },
        "id": "vGBgDM3Ut3i4",
        "outputId": "d8bae44c-ddb4-4413-d69e-aeb59ecf9e58"
      },
      "execution_count": 16,
      "outputs": [
        {
          "output_type": "stream",
          "name": "stdout",
          "text": [
            "[[ 2  4]\n",
            " [10 12]]\n"
          ]
        }
      ]
    },
    {
      "cell_type": "markdown",
      "source": [
        "8. Dada la matriz tensor, selecciona los elementos en las matrices exteriores y en las filas y columnas pares de cada matriz.\n",
        "\n",
        "tensor = np.array([[[1, 2, 3],\n",
        "                    [4, 5, 6]],\n",
        "\n",
        "                   [[7, 8, 9],\n",
        "                    [10, 11, 12]],\n",
        "\n",
        "                   [[13, 14, 15],\n",
        "                    [16, 17, 18]]])\n",
        "\n"
      ],
      "metadata": {
        "id": "3CegiqOPddrM"
      }
    },
    {
      "cell_type": "code",
      "source": [
        "tensor = np.array([[[1, 2, 3], [4, 5, 6]], [[7, 8, 9], [10, 11, 12]], [[13, 14, 15], [16, 17, 18]]])\n",
        "\n",
        "# Seleccionar matrices exteriores (primera y última), filas pares y\n",
        "# columnas pares de cada matriz seleccionada\n",
        "result = tensor[[0, -1], ::2, ::2]\n",
        "\n",
        "print(result)\n"
      ],
      "metadata": {
        "colab": {
          "base_uri": "https://localhost:8080/"
        },
        "id": "BK9QHvmKzbBa",
        "outputId": "81fac446-949c-4452-f28f-545d9363e125"
      },
      "execution_count": 17,
      "outputs": [
        {
          "output_type": "stream",
          "name": "stdout",
          "text": [
            "[[[ 1  3]]\n",
            "\n",
            " [[13 15]]]\n"
          ]
        }
      ]
    },
    {
      "cell_type": "markdown",
      "source": [
        "9. Crea un array de tamaño 3x3 lleno de números aleatorios enteros entre 1 y 100 y encuentra el valor máximo. Obs: np.max puede resultar útil."
      ],
      "metadata": {
        "id": "qCgf0g9S6jr3"
      }
    },
    {
      "cell_type": "code",
      "source": [
        "# Crear un array de tamaño 3x3 lleno de números aleatorios enteros entre 1 y 100\n",
        "# Parámetros de randint: low, high, size, dtype\n",
        "array = np.random.randint(0, 101, (3, 3))\n",
        "\n",
        "# Imprimir el valor máximo del array\n",
        "print(f\"El valor máximo del array:\\n{array}, es: {np.max(array)}\")"
      ],
      "metadata": {
        "colab": {
          "base_uri": "https://localhost:8080/"
        },
        "id": "dboyOLHc1Zmg",
        "outputId": "9ac948b2-fe21-4edd-cae2-a9ace4fc08ca"
      },
      "execution_count": 18,
      "outputs": [
        {
          "output_type": "stream",
          "name": "stdout",
          "text": [
            "El valor máximo del array:\n",
            "[[ 51  22  73]\n",
            " [ 30  22  95]\n",
            " [ 58 100  27]], es: 100\n"
          ]
        }
      ]
    },
    {
      "cell_type": "markdown",
      "source": [
        "10. Cambia la forma de un array de 3x3 lleno del valor 3 a uno de 9x1. Luego, cambia el último elemento del array a 100 (usar índices negativos).\n"
      ],
      "metadata": {
        "id": "lmxC0YNel7EO"
      }
    },
    {
      "cell_type": "code",
      "source": [
        "# Crear un array 3x3 lleno del valor 3\n",
        "array = np.full((3, 3), 3)\n",
        "print(f\"Array 3X3 lleno del valor 3:\\n{array}\")\n",
        "\n",
        "# Cambiar la forma del array a 9x1\n",
        "array = array.reshape((9, 1))\n",
        "print(f\"\\nArray 9x1 lleno del valor 3:\\n{array}\")\n",
        "\n",
        "# Cambiar el último elemento del array a 100\n",
        "array[-1] = 100\n",
        "print(f\"\\nArray 9x1 con el último valor cambiado:\\n{array}\")"
      ],
      "metadata": {
        "colab": {
          "base_uri": "https://localhost:8080/"
        },
        "id": "XBILS9vz4ZpL",
        "outputId": "3541c53c-5515-4271-f546-da3a2c324241"
      },
      "execution_count": 19,
      "outputs": [
        {
          "output_type": "stream",
          "name": "stdout",
          "text": [
            "Array 3X3 lleno del valor 3:\n",
            "[[3 3 3]\n",
            " [3 3 3]\n",
            " [3 3 3]]\n",
            "\n",
            "Array 9x1 lleno del valor 3:\n",
            "[[3]\n",
            " [3]\n",
            " [3]\n",
            " [3]\n",
            " [3]\n",
            " [3]\n",
            " [3]\n",
            " [3]\n",
            " [3]]\n",
            "\n",
            "Array 9x1 con el último valor cambiado:\n",
            "[[  3]\n",
            " [  3]\n",
            " [  3]\n",
            " [  3]\n",
            " [  3]\n",
            " [  3]\n",
            " [  3]\n",
            " [  3]\n",
            " [100]]\n"
          ]
        }
      ]
    },
    {
      "cell_type": "markdown",
      "source": [
        "11. Crea un array 2x3 que contenga 6 elementos equiespaciados dentro del intervalo [8, 12). Luego cree otro array 2x3 con elementos aleatorios del intervalo (20, 30).  Concatena dos arrays pero en su forma unidimensional. Muestra el array resultante y muestra el valor mínimo (np.min).\n"
      ],
      "metadata": {
        "id": "y_U_pUw48lBr"
      }
    },
    {
      "cell_type": "code",
      "source": [
        "# Crear un array 2x3 con 6 elementos equiespaciados dentro del intervalo [8, 12)\n",
        "array1 = np.linspace(8, 12, num=6, endpoint=False).reshape(2, 3)\n",
        "print(f\"Array 1:\\n{array1}\")\n",
        "\n",
        "# Crear un array 2x3 con elementos aleatorios del intervalo (20, 30).\n",
        "array2 = np.random.randint(20, 30, (2, 3))\n",
        "print(f\"\\nArray 2:\\n{array2}\")\n",
        "\n",
        "# Concatenar los arrays en su forma unidimensional\n",
        "array = np.concatenate([array1.flatten(), array2.flatten()])\n",
        "\n",
        "# Mostrar el array resultante\n",
        "print(f\"\\nArray resultante:\\n{array}\")\n",
        "\n",
        "# Mostrar el valor mínimo\n",
        "print(f\"\\nEl valor mínimo del array es: {np.min(array)}\")"
      ],
      "metadata": {
        "colab": {
          "base_uri": "https://localhost:8080/"
        },
        "id": "wBVT3SuY5ZwO",
        "outputId": "ec3b0ed1-3843-4f12-d3a6-7838b8bc9fc8"
      },
      "execution_count": 20,
      "outputs": [
        {
          "output_type": "stream",
          "name": "stdout",
          "text": [
            "Array 1:\n",
            "[[ 8.          8.66666667  9.33333333]\n",
            " [10.         10.66666667 11.33333333]]\n",
            "\n",
            "Array 2:\n",
            "[[26 21 28]\n",
            " [20 22 22]]\n",
            "\n",
            "Array resultante:\n",
            "[ 8.          8.66666667  9.33333333 10.         10.66666667 11.33333333\n",
            " 26.         21.         28.         20.         22.         22.        ]\n",
            "\n",
            "El valor mínimo del array es: 8.0\n"
          ]
        }
      ]
    },
    {
      "cell_type": "markdown",
      "source": [
        "12. Crea un array 10x10 con elementos que contengan los primeros 100 números pares. Divide un array unidimensional en tres partes (3x10, 3x10 y 4x10), cada una de las tres partes deben ser guardadas por medio de decompresión de tuplas."
      ],
      "metadata": {
        "id": "smpy7hGx-MW4"
      }
    },
    {
      "cell_type": "code",
      "source": [
        "# Crear un array 10x10 con elementos que contengan los primeros 100 números pares\n",
        "array = np.arange(0, 200, 2).reshape(10, 10)\n",
        "\n",
        "# Dividir el array en tres partes\n",
        "a1 = array[:3, :]  # 3x10\n",
        "a2 = array[3:6, :]  # 3x10\n",
        "a3 = array[6:, :]   # 4x10\n",
        "\n",
        "# Guardar cada parte por medio de descompresión de tuplas\n",
        "a, b, c = a1, a2, a3\n",
        "\n",
        "\n",
        "print(\"Parte 1 (3x10):\")\n",
        "print(a)\n",
        "print(\"\\nParte 2 (3x10):\")\n",
        "print(b)\n",
        "print(\"\\nParte 3 (4x10):\")\n",
        "print(c)"
      ],
      "metadata": {
        "colab": {
          "base_uri": "https://localhost:8080/"
        },
        "id": "-FmR_ozq_5Qs",
        "outputId": "3ba788ae-09d1-4f0a-c2f2-c9d20c7cff50"
      },
      "execution_count": 21,
      "outputs": [
        {
          "output_type": "stream",
          "name": "stdout",
          "text": [
            "Parte 1 (3x10):\n",
            "[[ 0  2  4  6  8 10 12 14 16 18]\n",
            " [20 22 24 26 28 30 32 34 36 38]\n",
            " [40 42 44 46 48 50 52 54 56 58]]\n",
            "\n",
            "Parte 2 (3x10):\n",
            "[[ 60  62  64  66  68  70  72  74  76  78]\n",
            " [ 80  82  84  86  88  90  92  94  96  98]\n",
            " [100 102 104 106 108 110 112 114 116 118]]\n",
            "\n",
            "Parte 3 (4x10):\n",
            "[[120 122 124 126 128 130 132 134 136 138]\n",
            " [140 142 144 146 148 150 152 154 156 158]\n",
            " [160 162 164 166 168 170 172 174 176 178]\n",
            " [180 182 184 186 188 190 192 194 196 198]]\n"
          ]
        }
      ]
    },
    {
      "cell_type": "markdown",
      "source": [
        "13. Crea una matriz 2x3 llena de 0 y otra 1x3 llena de 1. Concatena y muestra la matriz resultante."
      ],
      "metadata": {
        "id": "bEK0YLakBZXO"
      }
    },
    {
      "cell_type": "code",
      "source": [
        "# Crear una matrix 2x3 llena de 0\n",
        "array1 = np.zeros((2, 3), dtype=int)\n",
        "array2 = np.ones((1, 3), dtype=int)\n",
        "\n",
        "# Concatenar los dos arrays\n",
        "array = np.concatenate([array1, array2])\n",
        "\n",
        "# Mostrar la matriz resultante\n",
        "print(\"Matriz resultante:\\n\", array)"
      ],
      "metadata": {
        "colab": {
          "base_uri": "https://localhost:8080/"
        },
        "id": "t7SFRjHEDaRo",
        "outputId": "60da20db-e67c-49af-85a8-df8fecc8009d"
      },
      "execution_count": 22,
      "outputs": [
        {
          "output_type": "stream",
          "name": "stdout",
          "text": [
            "Matriz resultante:\n",
            " [[0 0 0]\n",
            " [0 0 0]\n",
            " [1 1 1]]\n"
          ]
        }
      ]
    },
    {
      "cell_type": "markdown",
      "source": [
        "14. Escribe código para obtener la submatriz a partir de la matriz original.\n",
        "\n",
        "Matriz original:\n",
        "[[ 7  4  2]\n",
        " [ 9 10  8]\n",
        " [ 3  6  1]]\n",
        "\n",
        "Submatriz:\n",
        "[10  8]\n"
      ],
      "metadata": {
        "id": "F8Nv1T_ZCca4"
      }
    },
    {
      "cell_type": "code",
      "source": [
        "# Matriz original\n",
        "matriz = np.array([[7, 4, 2],\n",
        "                   [9, 10, 8],\n",
        "                   [3, 6, 1]])\n",
        "\n",
        "# Obtener la submatriz [10, 8]\n",
        "submatriz = matriz[1, 1:3]\n",
        "\n",
        "print(\"Submatriz: \", submatriz)"
      ],
      "metadata": {
        "colab": {
          "base_uri": "https://localhost:8080/"
        },
        "id": "x_kVbvCKFOnF",
        "outputId": "abc36e48-0d4c-40e1-e46f-e9f736f75ee8"
      },
      "execution_count": 23,
      "outputs": [
        {
          "output_type": "stream",
          "name": "stdout",
          "text": [
            "Submatriz:  [10  8]\n"
          ]
        }
      ]
    }
  ]
}