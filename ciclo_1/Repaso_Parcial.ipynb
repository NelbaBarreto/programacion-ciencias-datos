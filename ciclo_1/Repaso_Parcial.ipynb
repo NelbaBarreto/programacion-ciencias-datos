{
  "nbformat": 4,
  "nbformat_minor": 0,
  "metadata": {
    "colab": {
      "provenance": []
    },
    "kernelspec": {
      "name": "python3",
      "display_name": "Python 3"
    },
    "language_info": {
      "name": "python"
    }
  },
  "cells": [
    {
      "cell_type": "markdown",
      "source": [
        "# Examen parcial - Python para Ciencia de Datos"
      ],
      "metadata": {
        "id": "27tDkTBV1elh"
      }
    },
    {
      "cell_type": "markdown",
      "source": [
        "# Dataset:\n",
        "El dataset Iris contiene información sobre diferentes especies de iris (flores), clasificadas en tres clases diferentes: setosa, versicolor y virginica.\n",
        "\n",
        "El conjunto de datos contiene cinco características: longitud y ancho del sépalo, y longitud y ancho del pétalo, la especie y un código numérico para la especie. Estas características se utilizan para clasificar las especies de iris en función de sus medidas morfológicas. En resumen, las columnas del dataset iris son:\n",
        "\n",
        "1. sepalLength: la longitud del sépalo en centímetros.\n",
        "2. sepalWidth: el ancho del sépalo en centímetros.\n",
        "3. petalLength: la longitud del pétalo en centímetros.\n",
        "4. petalWidth: el ancho del pétalo en centímetros.\n",
        "5. species: especie de iris\n",
        "6. species_code: código numérico para las especies."
      ],
      "metadata": {
        "id": "1oLRbIWxvjiX"
      }
    },
    {
      "cell_type": "code",
      "source": [
        "#Importar las librerías\n",
        "import pandas as pd\n",
        "import numpy as np\n",
        "import matplotlib.pyplot as plt\n"
      ],
      "metadata": {
        "id": "BJ1d4UEgWt5p"
      },
      "execution_count": 1,
      "outputs": []
    },
    {
      "cell_type": "code",
      "source": [
        "# Importar el archivo csv iris_dataset.csv\n",
        "url = \"https://raw.githubusercontent.com/NelbaBarreto/programacion-ciencias-datos/main/data/iris_dataset.csv\"\n",
        "\n",
        "data = pd.read_csv(url)"
      ],
      "metadata": {
        "id": "cRe9s8biFBe9"
      },
      "execution_count": 3,
      "outputs": []
    },
    {
      "cell_type": "code",
      "source": [
        "# Mostrar las primeras 10 filas.\n",
        "data.head()"
      ],
      "metadata": {
        "id": "yo16RY4gwfrK",
        "colab": {
          "base_uri": "https://localhost:8080/",
          "height": 206
        },
        "outputId": "dd096f8f-773e-44ff-cca5-1a5b05299902"
      },
      "execution_count": 4,
      "outputs": [
        {
          "output_type": "execute_result",
          "data": {
            "text/plain": [
              "   sepalLength  sepalWidth  petalLength  petalWidth species  species_code\n",
              "0          5.1         3.5          1.4         0.2  setosa             0\n",
              "1          4.9         3.0          1.4         0.2  setosa             0\n",
              "2          4.7         3.2          1.3         0.2  setosa             0\n",
              "3          4.6         3.1          1.5         0.2  setosa             0\n",
              "4          5.0         3.6          1.4         0.2  setosa             0"
            ],
            "text/html": [
              "\n",
              "  <div id=\"df-352b26f4-0ee7-424b-9f59-bf4b2fc2c252\" class=\"colab-df-container\">\n",
              "    <div>\n",
              "<style scoped>\n",
              "    .dataframe tbody tr th:only-of-type {\n",
              "        vertical-align: middle;\n",
              "    }\n",
              "\n",
              "    .dataframe tbody tr th {\n",
              "        vertical-align: top;\n",
              "    }\n",
              "\n",
              "    .dataframe thead th {\n",
              "        text-align: right;\n",
              "    }\n",
              "</style>\n",
              "<table border=\"1\" class=\"dataframe\">\n",
              "  <thead>\n",
              "    <tr style=\"text-align: right;\">\n",
              "      <th></th>\n",
              "      <th>sepalLength</th>\n",
              "      <th>sepalWidth</th>\n",
              "      <th>petalLength</th>\n",
              "      <th>petalWidth</th>\n",
              "      <th>species</th>\n",
              "      <th>species_code</th>\n",
              "    </tr>\n",
              "  </thead>\n",
              "  <tbody>\n",
              "    <tr>\n",
              "      <th>0</th>\n",
              "      <td>5.1</td>\n",
              "      <td>3.5</td>\n",
              "      <td>1.4</td>\n",
              "      <td>0.2</td>\n",
              "      <td>setosa</td>\n",
              "      <td>0</td>\n",
              "    </tr>\n",
              "    <tr>\n",
              "      <th>1</th>\n",
              "      <td>4.9</td>\n",
              "      <td>3.0</td>\n",
              "      <td>1.4</td>\n",
              "      <td>0.2</td>\n",
              "      <td>setosa</td>\n",
              "      <td>0</td>\n",
              "    </tr>\n",
              "    <tr>\n",
              "      <th>2</th>\n",
              "      <td>4.7</td>\n",
              "      <td>3.2</td>\n",
              "      <td>1.3</td>\n",
              "      <td>0.2</td>\n",
              "      <td>setosa</td>\n",
              "      <td>0</td>\n",
              "    </tr>\n",
              "    <tr>\n",
              "      <th>3</th>\n",
              "      <td>4.6</td>\n",
              "      <td>3.1</td>\n",
              "      <td>1.5</td>\n",
              "      <td>0.2</td>\n",
              "      <td>setosa</td>\n",
              "      <td>0</td>\n",
              "    </tr>\n",
              "    <tr>\n",
              "      <th>4</th>\n",
              "      <td>5.0</td>\n",
              "      <td>3.6</td>\n",
              "      <td>1.4</td>\n",
              "      <td>0.2</td>\n",
              "      <td>setosa</td>\n",
              "      <td>0</td>\n",
              "    </tr>\n",
              "  </tbody>\n",
              "</table>\n",
              "</div>\n",
              "    <div class=\"colab-df-buttons\">\n",
              "\n",
              "  <div class=\"colab-df-container\">\n",
              "    <button class=\"colab-df-convert\" onclick=\"convertToInteractive('df-352b26f4-0ee7-424b-9f59-bf4b2fc2c252')\"\n",
              "            title=\"Convert this dataframe to an interactive table.\"\n",
              "            style=\"display:none;\">\n",
              "\n",
              "  <svg xmlns=\"http://www.w3.org/2000/svg\" height=\"24px\" viewBox=\"0 -960 960 960\">\n",
              "    <path d=\"M120-120v-720h720v720H120Zm60-500h600v-160H180v160Zm220 220h160v-160H400v160Zm0 220h160v-160H400v160ZM180-400h160v-160H180v160Zm440 0h160v-160H620v160ZM180-180h160v-160H180v160Zm440 0h160v-160H620v160Z\"/>\n",
              "  </svg>\n",
              "    </button>\n",
              "\n",
              "  <style>\n",
              "    .colab-df-container {\n",
              "      display:flex;\n",
              "      gap: 12px;\n",
              "    }\n",
              "\n",
              "    .colab-df-convert {\n",
              "      background-color: #E8F0FE;\n",
              "      border: none;\n",
              "      border-radius: 50%;\n",
              "      cursor: pointer;\n",
              "      display: none;\n",
              "      fill: #1967D2;\n",
              "      height: 32px;\n",
              "      padding: 0 0 0 0;\n",
              "      width: 32px;\n",
              "    }\n",
              "\n",
              "    .colab-df-convert:hover {\n",
              "      background-color: #E2EBFA;\n",
              "      box-shadow: 0px 1px 2px rgba(60, 64, 67, 0.3), 0px 1px 3px 1px rgba(60, 64, 67, 0.15);\n",
              "      fill: #174EA6;\n",
              "    }\n",
              "\n",
              "    .colab-df-buttons div {\n",
              "      margin-bottom: 4px;\n",
              "    }\n",
              "\n",
              "    [theme=dark] .colab-df-convert {\n",
              "      background-color: #3B4455;\n",
              "      fill: #D2E3FC;\n",
              "    }\n",
              "\n",
              "    [theme=dark] .colab-df-convert:hover {\n",
              "      background-color: #434B5C;\n",
              "      box-shadow: 0px 1px 3px 1px rgba(0, 0, 0, 0.15);\n",
              "      filter: drop-shadow(0px 1px 2px rgba(0, 0, 0, 0.3));\n",
              "      fill: #FFFFFF;\n",
              "    }\n",
              "  </style>\n",
              "\n",
              "    <script>\n",
              "      const buttonEl =\n",
              "        document.querySelector('#df-352b26f4-0ee7-424b-9f59-bf4b2fc2c252 button.colab-df-convert');\n",
              "      buttonEl.style.display =\n",
              "        google.colab.kernel.accessAllowed ? 'block' : 'none';\n",
              "\n",
              "      async function convertToInteractive(key) {\n",
              "        const element = document.querySelector('#df-352b26f4-0ee7-424b-9f59-bf4b2fc2c252');\n",
              "        const dataTable =\n",
              "          await google.colab.kernel.invokeFunction('convertToInteractive',\n",
              "                                                    [key], {});\n",
              "        if (!dataTable) return;\n",
              "\n",
              "        const docLinkHtml = 'Like what you see? Visit the ' +\n",
              "          '<a target=\"_blank\" href=https://colab.research.google.com/notebooks/data_table.ipynb>data table notebook</a>'\n",
              "          + ' to learn more about interactive tables.';\n",
              "        element.innerHTML = '';\n",
              "        dataTable['output_type'] = 'display_data';\n",
              "        await google.colab.output.renderOutput(dataTable, element);\n",
              "        const docLink = document.createElement('div');\n",
              "        docLink.innerHTML = docLinkHtml;\n",
              "        element.appendChild(docLink);\n",
              "      }\n",
              "    </script>\n",
              "  </div>\n",
              "\n",
              "\n",
              "<div id=\"df-8d15871f-0693-4ef5-b0b5-6140da7326af\">\n",
              "  <button class=\"colab-df-quickchart\" onclick=\"quickchart('df-8d15871f-0693-4ef5-b0b5-6140da7326af')\"\n",
              "            title=\"Suggest charts\"\n",
              "            style=\"display:none;\">\n",
              "\n",
              "<svg xmlns=\"http://www.w3.org/2000/svg\" height=\"24px\"viewBox=\"0 0 24 24\"\n",
              "     width=\"24px\">\n",
              "    <g>\n",
              "        <path d=\"M19 3H5c-1.1 0-2 .9-2 2v14c0 1.1.9 2 2 2h14c1.1 0 2-.9 2-2V5c0-1.1-.9-2-2-2zM9 17H7v-7h2v7zm4 0h-2V7h2v10zm4 0h-2v-4h2v4z\"/>\n",
              "    </g>\n",
              "</svg>\n",
              "  </button>\n",
              "\n",
              "<style>\n",
              "  .colab-df-quickchart {\n",
              "      --bg-color: #E8F0FE;\n",
              "      --fill-color: #1967D2;\n",
              "      --hover-bg-color: #E2EBFA;\n",
              "      --hover-fill-color: #174EA6;\n",
              "      --disabled-fill-color: #AAA;\n",
              "      --disabled-bg-color: #DDD;\n",
              "  }\n",
              "\n",
              "  [theme=dark] .colab-df-quickchart {\n",
              "      --bg-color: #3B4455;\n",
              "      --fill-color: #D2E3FC;\n",
              "      --hover-bg-color: #434B5C;\n",
              "      --hover-fill-color: #FFFFFF;\n",
              "      --disabled-bg-color: #3B4455;\n",
              "      --disabled-fill-color: #666;\n",
              "  }\n",
              "\n",
              "  .colab-df-quickchart {\n",
              "    background-color: var(--bg-color);\n",
              "    border: none;\n",
              "    border-radius: 50%;\n",
              "    cursor: pointer;\n",
              "    display: none;\n",
              "    fill: var(--fill-color);\n",
              "    height: 32px;\n",
              "    padding: 0;\n",
              "    width: 32px;\n",
              "  }\n",
              "\n",
              "  .colab-df-quickchart:hover {\n",
              "    background-color: var(--hover-bg-color);\n",
              "    box-shadow: 0 1px 2px rgba(60, 64, 67, 0.3), 0 1px 3px 1px rgba(60, 64, 67, 0.15);\n",
              "    fill: var(--button-hover-fill-color);\n",
              "  }\n",
              "\n",
              "  .colab-df-quickchart-complete:disabled,\n",
              "  .colab-df-quickchart-complete:disabled:hover {\n",
              "    background-color: var(--disabled-bg-color);\n",
              "    fill: var(--disabled-fill-color);\n",
              "    box-shadow: none;\n",
              "  }\n",
              "\n",
              "  .colab-df-spinner {\n",
              "    border: 2px solid var(--fill-color);\n",
              "    border-color: transparent;\n",
              "    border-bottom-color: var(--fill-color);\n",
              "    animation:\n",
              "      spin 1s steps(1) infinite;\n",
              "  }\n",
              "\n",
              "  @keyframes spin {\n",
              "    0% {\n",
              "      border-color: transparent;\n",
              "      border-bottom-color: var(--fill-color);\n",
              "      border-left-color: var(--fill-color);\n",
              "    }\n",
              "    20% {\n",
              "      border-color: transparent;\n",
              "      border-left-color: var(--fill-color);\n",
              "      border-top-color: var(--fill-color);\n",
              "    }\n",
              "    30% {\n",
              "      border-color: transparent;\n",
              "      border-left-color: var(--fill-color);\n",
              "      border-top-color: var(--fill-color);\n",
              "      border-right-color: var(--fill-color);\n",
              "    }\n",
              "    40% {\n",
              "      border-color: transparent;\n",
              "      border-right-color: var(--fill-color);\n",
              "      border-top-color: var(--fill-color);\n",
              "    }\n",
              "    60% {\n",
              "      border-color: transparent;\n",
              "      border-right-color: var(--fill-color);\n",
              "    }\n",
              "    80% {\n",
              "      border-color: transparent;\n",
              "      border-right-color: var(--fill-color);\n",
              "      border-bottom-color: var(--fill-color);\n",
              "    }\n",
              "    90% {\n",
              "      border-color: transparent;\n",
              "      border-bottom-color: var(--fill-color);\n",
              "    }\n",
              "  }\n",
              "</style>\n",
              "\n",
              "  <script>\n",
              "    async function quickchart(key) {\n",
              "      const quickchartButtonEl =\n",
              "        document.querySelector('#' + key + ' button');\n",
              "      quickchartButtonEl.disabled = true;  // To prevent multiple clicks.\n",
              "      quickchartButtonEl.classList.add('colab-df-spinner');\n",
              "      try {\n",
              "        const charts = await google.colab.kernel.invokeFunction(\n",
              "            'suggestCharts', [key], {});\n",
              "      } catch (error) {\n",
              "        console.error('Error during call to suggestCharts:', error);\n",
              "      }\n",
              "      quickchartButtonEl.classList.remove('colab-df-spinner');\n",
              "      quickchartButtonEl.classList.add('colab-df-quickchart-complete');\n",
              "    }\n",
              "    (() => {\n",
              "      let quickchartButtonEl =\n",
              "        document.querySelector('#df-8d15871f-0693-4ef5-b0b5-6140da7326af button');\n",
              "      quickchartButtonEl.style.display =\n",
              "        google.colab.kernel.accessAllowed ? 'block' : 'none';\n",
              "    })();\n",
              "  </script>\n",
              "</div>\n",
              "\n",
              "    </div>\n",
              "  </div>\n"
            ],
            "application/vnd.google.colaboratory.intrinsic+json": {
              "type": "dataframe",
              "variable_name": "data",
              "summary": "{\n  \"name\": \"data\",\n  \"rows\": 150,\n  \"fields\": [\n    {\n      \"column\": \"sepalLength\",\n      \"properties\": {\n        \"dtype\": \"number\",\n        \"std\": 0.828066127977863,\n        \"min\": 4.3,\n        \"max\": 7.9,\n        \"num_unique_values\": 35,\n        \"samples\": [\n          6.2,\n          4.5,\n          5.6\n        ],\n        \"semantic_type\": \"\",\n        \"description\": \"\"\n      }\n    },\n    {\n      \"column\": \"sepalWidth\",\n      \"properties\": {\n        \"dtype\": \"number\",\n        \"std\": 0.4358662849366982,\n        \"min\": 2.0,\n        \"max\": 4.4,\n        \"num_unique_values\": 23,\n        \"samples\": [\n          2.3,\n          4.0,\n          3.5\n        ],\n        \"semantic_type\": \"\",\n        \"description\": \"\"\n      }\n    },\n    {\n      \"column\": \"petalLength\",\n      \"properties\": {\n        \"dtype\": \"number\",\n        \"std\": 1.7652982332594662,\n        \"min\": 1.0,\n        \"max\": 6.9,\n        \"num_unique_values\": 43,\n        \"samples\": [\n          6.7,\n          3.8,\n          3.7\n        ],\n        \"semantic_type\": \"\",\n        \"description\": \"\"\n      }\n    },\n    {\n      \"column\": \"petalWidth\",\n      \"properties\": {\n        \"dtype\": \"number\",\n        \"std\": 0.7622376689603467,\n        \"min\": 0.1,\n        \"max\": 2.5,\n        \"num_unique_values\": 22,\n        \"samples\": [\n          0.2,\n          1.2,\n          1.3\n        ],\n        \"semantic_type\": \"\",\n        \"description\": \"\"\n      }\n    },\n    {\n      \"column\": \"species\",\n      \"properties\": {\n        \"dtype\": \"category\",\n        \"num_unique_values\": 3,\n        \"samples\": [\n          \"setosa\",\n          \"versicolor\",\n          \"virginica\"\n        ],\n        \"semantic_type\": \"\",\n        \"description\": \"\"\n      }\n    },\n    {\n      \"column\": \"species_code\",\n      \"properties\": {\n        \"dtype\": \"number\",\n        \"std\": 0,\n        \"min\": 0,\n        \"max\": 2,\n        \"num_unique_values\": 3,\n        \"samples\": [\n          0,\n          1,\n          2\n        ],\n        \"semantic_type\": \"\",\n        \"description\": \"\"\n      }\n    }\n  ]\n}"
            }
          },
          "metadata": {},
          "execution_count": 4
        }
      ]
    },
    {
      "cell_type": "code",
      "source": [
        "data.info()"
      ],
      "metadata": {
        "colab": {
          "base_uri": "https://localhost:8080/"
        },
        "id": "XVFfLrr8ICAN",
        "outputId": "62a25789-800f-40ba-984c-024f814b6174"
      },
      "execution_count": 7,
      "outputs": [
        {
          "output_type": "stream",
          "name": "stdout",
          "text": [
            "<class 'pandas.core.frame.DataFrame'>\n",
            "RangeIndex: 150 entries, 0 to 149\n",
            "Data columns (total 6 columns):\n",
            " #   Column        Non-Null Count  Dtype  \n",
            "---  ------        --------------  -----  \n",
            " 0   sepalLength   150 non-null    float64\n",
            " 1   sepalWidth    150 non-null    float64\n",
            " 2   petalLength   150 non-null    float64\n",
            " 3   petalWidth    150 non-null    float64\n",
            " 4   species       150 non-null    object \n",
            " 5   species_code  150 non-null    int64  \n",
            "dtypes: float64(4), int64(1), object(1)\n",
            "memory usage: 7.2+ KB\n"
          ]
        }
      ]
    },
    {
      "cell_type": "markdown",
      "source": [
        "En adelante, para la resolución de los ejercicios, solo se podrá usar numpy."
      ],
      "metadata": {
        "id": "7IVY3L9taS95"
      }
    },
    {
      "cell_type": "markdown",
      "source": [
        "# Ejercicio 1\n",
        "¿Cuántas muestras hay en el dataset?"
      ],
      "metadata": {
        "id": "X_D8xh7PJScT"
      }
    },
    {
      "cell_type": "code",
      "source": [
        "print(f\"Hay {len(data)} muestras en el dataset\")"
      ],
      "metadata": {
        "id": "IW61IzNkJpqe",
        "colab": {
          "base_uri": "https://localhost:8080/"
        },
        "outputId": "4da4b27d-c9c7-4e83-d7f5-60d9551276ed"
      },
      "execution_count": 5,
      "outputs": [
        {
          "output_type": "stream",
          "name": "stdout",
          "text": [
            "Hay 150 muestras en el dataset\n"
          ]
        }
      ]
    },
    {
      "cell_type": "markdown",
      "source": [
        "# Ejercicio 2\n",
        "Calcule la media de la longitud del sépalo (primer atributo) para cada especie de iris. Explica los resultados."
      ],
      "metadata": {
        "id": "th2TamSwJqZ_"
      }
    },
    {
      "cell_type": "code",
      "source": [
        "# Calcular la media de longitud del sépalo para cada especie usando NumPy\n",
        "unique_species = np.unique(data[\"species\"].values)  # Obtener las especies únicas\n",
        "\n",
        "print(unique_species)"
      ],
      "metadata": {
        "id": "EgwrSoH2Jwd6",
        "colab": {
          "base_uri": "https://localhost:8080/"
        },
        "outputId": "c3a459b2-0d11-4185-ae79-2f5d3c671ef8"
      },
      "execution_count": 9,
      "outputs": [
        {
          "output_type": "stream",
          "name": "stdout",
          "text": [
            "['setosa' 'versicolor' 'virginica']\n"
          ]
        }
      ]
    },
    {
      "cell_type": "code",
      "source": [
        "species = np.array(data[\"species\"])\n",
        "sepal_length = np.array(data[\"sepalLength\"])\n",
        "\n",
        "for specie in unique_species:\n",
        "  print(f\"La media de la especie {specie} es\", sepal_length[(species == specie)].mean())"
      ],
      "metadata": {
        "colab": {
          "base_uri": "https://localhost:8080/"
        },
        "id": "GUZ0RfhKJyjz",
        "outputId": "de08fb2f-ec58-42c3-f1f1-130ab67c4a12"
      },
      "execution_count": 15,
      "outputs": [
        {
          "output_type": "stream",
          "name": "stdout",
          "text": [
            "La media de la especie setosa es 5.006\n",
            "La media de la especie versicolor es 5.936\n",
            "La media de la especie virginica es 6.587999999999998\n"
          ]
        }
      ]
    },
    {
      "cell_type": "markdown",
      "source": [
        "- Hay una clara diferencia en la longitud promedio del sépalo entre las tres especies de iris.\n",
        "- La especie setosa tiene los sépalos más cortos, seguida de versicolor y luego virginica con los sépalos más largos."
      ],
      "metadata": {
        "id": "Xb5mUwK8MXx1"
      }
    },
    {
      "cell_type": "markdown",
      "source": [
        "¿Cuál es el valor máximo de la longitud del pétalo (tercer atributo) para la especie Setosa?"
      ],
      "metadata": {
        "id": "swhbAn4jJ2ME"
      }
    },
    {
      "cell_type": "code",
      "source": [
        "petal_length = np.array(data[\"petalLength\"])\n",
        "print(f\"El valor máximo de la longitud del pétalo para la especie setosa es:\", petal_length[(species == \"setosa\")].max())"
      ],
      "metadata": {
        "id": "eh4wvg8rKn4j",
        "colab": {
          "base_uri": "https://localhost:8080/"
        },
        "outputId": "a0f4c8c3-3275-4d5b-b8e0-a8327d9f1f30"
      },
      "execution_count": 19,
      "outputs": [
        {
          "output_type": "stream",
          "name": "stdout",
          "text": [
            "El valor máximo de la longitud del pétalo para la especie setosa es: 1.9\n"
          ]
        }
      ]
    },
    {
      "cell_type": "markdown",
      "source": [
        "# Ejercicio 4\n",
        "Genere un array booleano que sea True para las muestras cuya longitud del pétalo (tercer atributo) sea mayor que 1.5 y False en caso contrario."
      ],
      "metadata": {
        "id": "O21hy1BzJ2Qg"
      }
    },
    {
      "cell_type": "code",
      "source": [
        "mask = (petal_length > 1.5)\n",
        "print(mask)"
      ],
      "metadata": {
        "id": "wD_eTJC1KoWf",
        "colab": {
          "base_uri": "https://localhost:8080/"
        },
        "outputId": "3d76cab6-b6d2-4716-c0f9-7a41dcd73a11"
      },
      "execution_count": 20,
      "outputs": [
        {
          "output_type": "stream",
          "name": "stdout",
          "text": [
            "[False False False False False  True False False False False False  True\n",
            " False False False False False False  True False  True False False  True\n",
            "  True  True  True False False  True  True False False False False False\n",
            " False False False False False False False  True  True False  True False\n",
            " False False  True  True  True  True  True  True  True  True  True  True\n",
            "  True  True  True  True  True  True  True  True  True  True  True  True\n",
            "  True  True  True  True  True  True  True  True  True  True  True  True\n",
            "  True  True  True  True  True  True  True  True  True  True  True  True\n",
            "  True  True  True  True  True  True  True  True  True  True  True  True\n",
            "  True  True  True  True  True  True  True  True  True  True  True  True\n",
            "  True  True  True  True  True  True  True  True  True  True  True  True\n",
            "  True  True  True  True  True  True  True  True  True  True  True  True\n",
            "  True  True  True  True  True  True]\n"
          ]
        }
      ]
    },
    {
      "cell_type": "markdown",
      "source": [
        "# Ejercicio 5\n",
        "Utilizando el array booleano generado en la pregunta anterior, obtenga un nuevo array que contenga solo las muestras que cumplan con la condición. Muestre la cantidad de muestras en el array."
      ],
      "metadata": {
        "id": "bBQVIDOrKTm6"
      }
    },
    {
      "cell_type": "code",
      "source": [
        "# Obtener un nuevo array con solo las muestras que cumplan con la condición\n",
        "petal_length_filtered = petal_length[(mask)]\n",
        "\n",
        "print(\"La cantidad de muestras con la longitud de pétalo mayor a 1.5 es de\", len(petal_length_filtered))"
      ],
      "metadata": {
        "id": "0dqQdP4FKo6p",
        "colab": {
          "base_uri": "https://localhost:8080/"
        },
        "outputId": "f5a5c654-2d4b-49d6-d1ce-1531f6df9a93"
      },
      "execution_count": 23,
      "outputs": [
        {
          "output_type": "stream",
          "name": "stdout",
          "text": [
            "La cantidad de muestras con la longitud de pétalo mayor a 1.5 es de 113\n"
          ]
        }
      ]
    },
    {
      "cell_type": "markdown",
      "source": [
        "# Ejercicio 6\n",
        "¿Cuál es la media de la anchura del sépalo (segundo atributo) para las muestras cuya longitud del sépalo (primer atributo) es mayor que 5.0?"
      ],
      "metadata": {
        "id": "syBbIMDvKZUy"
      }
    },
    {
      "cell_type": "code",
      "source": [
        "sepal_width = np.array(data[\"sepalWidth\"])\n",
        "mask = (sepal_length > 5)\n",
        "\n",
        "print(\"La media de la anchura del sépalo para las muestras cuya longitud del sépalo es mayor que 5.0 es de\", sepal_width[mask].mean())"
      ],
      "metadata": {
        "id": "dJOcc4AVKrkX",
        "colab": {
          "base_uri": "https://localhost:8080/"
        },
        "outputId": "089b066e-eebe-4ab0-fa7f-043c78e9a5b0"
      },
      "execution_count": 25,
      "outputs": [
        {
          "output_type": "stream",
          "name": "stdout",
          "text": [
            "La media de la anchura del sépalo para las muestras cuya longitud del sépalo es mayor que 5.0 es de 3.0483050847457624\n"
          ]
        }
      ]
    },
    {
      "cell_type": "markdown",
      "source": [
        "# Ejercicio 7\n",
        "¿Cuál es el valor máximo de la longitud del pétalo (tercer atributo) para la especie Virginica?\n"
      ],
      "metadata": {
        "id": "A0028lDUKpql"
      }
    },
    {
      "cell_type": "code",
      "source": [
        "print(\"El valor máximo de la longitud del pétalo para la especie Virginica es de\", petal_length[species == \"virginica\"].max())"
      ],
      "metadata": {
        "id": "Uu9nIeQvLYto",
        "colab": {
          "base_uri": "https://localhost:8080/"
        },
        "outputId": "cef107dc-e95b-446c-8fb9-0b74bdd87321"
      },
      "execution_count": 26,
      "outputs": [
        {
          "output_type": "stream",
          "name": "stdout",
          "text": [
            "El valor máximo de la longitud del pétalo para la especie Virginica es de 6.9\n"
          ]
        }
      ]
    },
    {
      "cell_type": "markdown",
      "source": [
        "# Ejercicio 8\n",
        "Cree un array booleano que indiquen donde se encuentran las muestras de la especie Setosa. Luego, encuentre la muestra con la longitud del sépalo (primer atributo) más grande.\n"
      ],
      "metadata": {
        "id": "gNbh1JLjLZMD"
      }
    },
    {
      "cell_type": "code",
      "source": [
        "mask = (species == \"setosa\")\n",
        "\n",
        "print(\"La muestra con la longitud del sépalo de la especie setosa más grande es de\", sepal_length[mask].max())"
      ],
      "metadata": {
        "id": "tA1A-i4BL3yU",
        "colab": {
          "base_uri": "https://localhost:8080/"
        },
        "outputId": "bb2c11a9-b6e9-4755-91ad-24216b06b7bb"
      },
      "execution_count": 29,
      "outputs": [
        {
          "output_type": "stream",
          "name": "stdout",
          "text": [
            "La muestra con la longitud del sépalo de la especie setosa más grande es de 5.8\n"
          ]
        }
      ]
    },
    {
      "cell_type": "markdown",
      "source": [
        "# Ejercicio 9\n",
        "Extrae la longitud del pétalo de la especie Setosa y muestra su distribución usando los percentiles 25, 50 y 75. Además, construye un histograma que muestre su distribución. Explica brevemente los resultados."
      ],
      "metadata": {
        "id": "mLeA-W-fL4Gs"
      }
    },
    {
      "cell_type": "code",
      "source": [
        "# Extrae la longitud del pétalo de la especie Setosa\n",
        "setosa_petal_length = petal_length[mask]\n",
        "\n",
        "# Muestra su distribución usando los percentiles 25, 50 y 75\n",
        "print(\"Percentil 25:\", np.percentile(setosa_petal_length, 25))\n",
        "print(\"Mediana:\", np.median(setosa_petal_length))\n",
        "print(\"Percentil 75:\", np.percentile(setosa_petal_length, 75))"
      ],
      "metadata": {
        "id": "MdM1zYBSL_xh",
        "colab": {
          "base_uri": "https://localhost:8080/"
        },
        "outputId": "b29c8103-e5c2-482d-f33c-36107a2f70f8"
      },
      "execution_count": 30,
      "outputs": [
        {
          "output_type": "stream",
          "name": "stdout",
          "text": [
            "Percentil 25: 1.4\n",
            "Mediana: 1.5\n",
            "Percentil 75: 1.5750000000000002\n"
          ]
        }
      ]
    },
    {
      "cell_type": "code",
      "source": [
        "# Construye un histograma que muestre su distribución\n",
        "plt.hist(setosa_petal_length)\n",
        "plt.title(\"Longitud de Pétalo de la Especie Setosa\")\n",
        "\n",
        "plt.show()"
      ],
      "metadata": {
        "colab": {
          "base_uri": "https://localhost:8080/",
          "height": 453
        },
        "id": "gT46l_awYUMw",
        "outputId": "2941a643-46bc-49dc-e24d-59b6081701c3"
      },
      "execution_count": 31,
      "outputs": [
        {
          "output_type": "display_data",
          "data": {
            "text/plain": [
              "<Figure size 640x480 with 1 Axes>"
            ],
            "image/png": "[encoded data removed]"
          },
          "metadata": {}
        }
      ]
    },
    {
      "cell_type": "markdown",
      "source": [
        "- La longitud del pétalo de la especie setosa está bastante concentrada alrededor de la mediana, con valores que no varían mucho entre los percentiles 25, 50 y 75. La mayoría de las longitudes de pétalo son bastante similares y hay poca dispersión.\n",
        "- La mediana está muy cerca del percentil 25 y del percentil 75, lo que sugiere que la distribución puede ser aproximadamente simétrica."
      ],
      "metadata": {
        "id": "JTlZq8TSZE7q"
      }
    },
    {
      "cell_type": "markdown",
      "source": [
        "# Ejercicio 10\n",
        "Utilizando indexación, seleccione todas las muestras de la especie Versicolor que tengan una longitud del pétalo (tercer atributo) mayor que 4.0."
      ],
      "metadata": {
        "id": "rSMhauvzMAEl"
      }
    },
    {
      "cell_type": "code",
      "source": [
        "mask = (species == \"versicolor\") & (petal_length > 4)\n",
        "\n",
        "true_indices = np.where(mask)[0]\n",
        "\n",
        "\n",
        "print(data.iloc[true_indices])"
      ],
      "metadata": {
        "id": "dCfR70AXNexj",
        "colab": {
          "base_uri": "https://localhost:8080/"
        },
        "outputId": "72f99bd8-0988-45b0-ed94-bfdd926064ac"
      },
      "execution_count": 41,
      "outputs": [
        {
          "output_type": "stream",
          "name": "stdout",
          "text": [
            "    sepalLength  sepalWidth  petalLength  petalWidth     species  species_code\n",
            "50          7.0         3.2          4.7         1.4  versicolor             1\n",
            "51          6.4         3.2          4.5         1.5  versicolor             1\n",
            "52          6.9         3.1          4.9         1.5  versicolor             1\n",
            "54          6.5         2.8          4.6         1.5  versicolor             1\n",
            "55          5.7         2.8          4.5         1.3  versicolor             1\n",
            "56          6.3         3.3          4.7         1.6  versicolor             1\n",
            "58          6.6         2.9          4.6         1.3  versicolor             1\n",
            "61          5.9         3.0          4.2         1.5  versicolor             1\n",
            "63          6.1         2.9          4.7         1.4  versicolor             1\n",
            "65          6.7         3.1          4.4         1.4  versicolor             1\n",
            "66          5.6         3.0          4.5         1.5  versicolor             1\n",
            "67          5.8         2.7          4.1         1.0  versicolor             1\n",
            "68          6.2         2.2          4.5         1.5  versicolor             1\n",
            "70          5.9         3.2          4.8         1.8  versicolor             1\n",
            "72          6.3         2.5          4.9         1.5  versicolor             1\n",
            "73          6.1         2.8          4.7         1.2  versicolor             1\n",
            "74          6.4         2.9          4.3         1.3  versicolor             1\n",
            "75          6.6         3.0          4.4         1.4  versicolor             1\n",
            "76          6.8         2.8          4.8         1.4  versicolor             1\n",
            "77          6.7         3.0          5.0         1.7  versicolor             1\n",
            "78          6.0         2.9          4.5         1.5  versicolor             1\n",
            "83          6.0         2.7          5.1         1.6  versicolor             1\n",
            "84          5.4         3.0          4.5         1.5  versicolor             1\n",
            "85          6.0         3.4          4.5         1.6  versicolor             1\n",
            "86          6.7         3.1          4.7         1.5  versicolor             1\n",
            "87          6.3         2.3          4.4         1.3  versicolor             1\n",
            "88          5.6         3.0          4.1         1.3  versicolor             1\n",
            "90          5.5         2.6          4.4         1.2  versicolor             1\n",
            "91          6.1         3.0          4.6         1.4  versicolor             1\n",
            "94          5.6         2.7          4.2         1.3  versicolor             1\n",
            "95          5.7         3.0          4.2         1.2  versicolor             1\n",
            "96          5.7         2.9          4.2         1.3  versicolor             1\n",
            "97          6.2         2.9          4.3         1.3  versicolor             1\n",
            "99          5.7         2.8          4.1         1.3  versicolor             1\n"
          ]
        }
      ]
    }
  ]
}