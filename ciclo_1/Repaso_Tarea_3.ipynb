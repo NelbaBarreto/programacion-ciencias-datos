{
  "nbformat": 4,
  "nbformat_minor": 0,
  "metadata": {
    "colab": {
      "provenance": []
    },
    "kernelspec": {
      "name": "python3",
      "display_name": "Python 3"
    },
    "language_info": {
      "name": "python"
    }
  },
  "cells": [
    {
      "cell_type": "code",
      "source": [
        "#Import libraries\n",
        "from vega_datasets import data\n",
        "import pandas as pd\n",
        "import numpy as np\n",
        "import matplotlib.pyplot as plt"
      ],
      "metadata": {
        "id": "d_XLuhkNq3sU"
      },
      "execution_count": 35,
      "outputs": []
    },
    {
      "cell_type": "code",
      "source": [
        "#Display de available dataset by using list_datasets method\n",
        "data.list_datasets()"
      ],
      "metadata": {
        "colab": {
          "base_uri": "https://localhost:8080/"
        },
        "id": "Shw_qMg7q6AO",
        "outputId": "a8fae513-5b52-48e1-f14f-935cfc618ace"
      },
      "execution_count": 36,
      "outputs": [
        {
          "output_type": "execute_result",
          "data": {
            "text/plain": [
              "['7zip',\n",
              " 'airports',\n",
              " 'annual-precip',\n",
              " 'anscombe',\n",
              " 'barley',\n",
              " 'birdstrikes',\n",
              " 'budget',\n",
              " 'budgets',\n",
              " 'burtin',\n",
              " 'cars',\n",
              " 'climate',\n",
              " 'co2-concentration',\n",
              " 'countries',\n",
              " 'crimea',\n",
              " 'disasters',\n",
              " 'driving',\n",
              " 'earthquakes',\n",
              " 'ffox',\n",
              " 'flare',\n",
              " 'flare-dependencies',\n",
              " 'flights-10k',\n",
              " 'flights-200k',\n",
              " 'flights-20k',\n",
              " 'flights-2k',\n",
              " 'flights-3m',\n",
              " 'flights-5k',\n",
              " 'flights-airport',\n",
              " 'gapminder',\n",
              " 'gapminder-health-income',\n",
              " 'gimp',\n",
              " 'github',\n",
              " 'graticule',\n",
              " 'income',\n",
              " 'iowa-electricity',\n",
              " 'iris',\n",
              " 'jobs',\n",
              " 'la-riots',\n",
              " 'londonBoroughs',\n",
              " 'londonCentroids',\n",
              " 'londonTubeLines',\n",
              " 'lookup_groups',\n",
              " 'lookup_people',\n",
              " 'miserables',\n",
              " 'monarchs',\n",
              " 'movies',\n",
              " 'normal-2d',\n",
              " 'obesity',\n",
              " 'ohlc',\n",
              " 'points',\n",
              " 'population',\n",
              " 'population_engineers_hurricanes',\n",
              " 'seattle-temps',\n",
              " 'seattle-weather',\n",
              " 'sf-temps',\n",
              " 'sp500',\n",
              " 'stocks',\n",
              " 'udistrict',\n",
              " 'unemployment',\n",
              " 'unemployment-across-industries',\n",
              " 'uniform-2d',\n",
              " 'us-10m',\n",
              " 'us-employment',\n",
              " 'us-state-capitals',\n",
              " 'volcano',\n",
              " 'weather',\n",
              " 'weball26',\n",
              " 'wheat',\n",
              " 'windvectors',\n",
              " 'world-110m',\n",
              " 'zipcodes']"
            ]
          },
          "metadata": {},
          "execution_count": 36
        }
      ]
    },
    {
      "cell_type": "code",
      "source": [
        "### Muestra la descripción del dataset seattle_weather usando el atributo description\n",
        "print(\"Descripción del dataset seattle_weather:\", data.seattle_weather.description, sep=\"\\n\")"
      ],
      "metadata": {
        "id": "yYpK6zyb3fwB",
        "colab": {
          "base_uri": "https://localhost:8080/"
        },
        "outputId": "eaae4a86-9598-4775-b663-5c7db3a90bf8"
      },
      "execution_count": 37,
      "outputs": [
        {
          "output_type": "stream",
          "name": "stdout",
          "text": [
            "Descripción del dataset seattle_weather:\n",
            "This dataset contains precipitation totals, temperature extremes, wind speed, and weather type recorded daily in Seattle from 2012 to 2015. The dataset is drawn from public-domain `NOAA data <https://www.weather.gov/disclaimer>`_, and transformed using scripts available at http://github.com/vega/vega_datasets/.\n"
          ]
        }
      ]
    },
    {
      "cell_type": "code",
      "source": [
        "## Extrae la columna precipitation usando la columna date como índice. Extrae solo datos correspondientes al 2015.\n",
        "seattle_weather = data.seattle_weather()\n",
        "\n",
        "seattle_weather[\"date\"] = pd.to_datetime(seattle_weather[\"date\"])\n",
        "\n",
        "# Configurar la columna \"date\" como índice\n",
        "seattle_weather.set_index(\"date\", inplace=True)\n",
        "seattle_weather.head()\n",
        "# Extraer solo la columna \"precipitation\" con los datos del año 2015\n",
        "precipitation_2015 = seattle_weather[(seattle_weather.index.year == 2015)][\"precipitation\"]\n",
        "\n",
        "# Convierte la columna extraída a un array de numpy.\n",
        "precipitation_data = np.array(precipitation_2015)"
      ],
      "metadata": {
        "id": "fx5cC4q9o3NM"
      },
      "execution_count": 57,
      "outputs": []
    },
    {
      "cell_type": "code",
      "source": [
        "## Muestra el contenido de precipitation_data\n",
        "print(precipitation_data)"
      ],
      "metadata": {
        "id": "uOYTQ65ipdtk",
        "colab": {
          "base_uri": "https://localhost:8080/"
        },
        "outputId": "69f7bc7f-c0bb-4b91-e0e2-2947bcfe5f4c"
      },
      "execution_count": 39,
      "outputs": [
        {
          "output_type": "stream",
          "name": "stdout",
          "text": [
            "[ 0.   1.5  0.  10.2  8.1  0.   0.   0.   0.3  5.8  1.5  0.   0.   0.\n",
            "  9.7  0.  26.2 21.3  0.5  0.   0.   0.8  5.8  0.5  0.   0.   0.8  0.\n",
            "  0.   0.   0.   1.5  7.4  1.3  8.4 26.2 17.3 23.6  3.6  6.1  0.3  0.\n",
            "  1.   0.   0.3  0.   0.   0.   0.   4.6  0.8  0.   0.   0.   0.   4.1\n",
            "  9.4 18.3  0.   0.   0.   0.   0.   0.   0.   0.   0.   0.   0.8  2.5\n",
            "  0.   2.  17.  55.9  1.   0.8  0.   0.   4.1  3.8  1.   8.1  7.6  5.1\n",
            "  0.   1.   0.   0.   1.8  1.   5.1  0.   1.5  0.   0.   1.   0.5  0.\n",
            "  0.  10.9  0.   0.  14.   3.3  0.   0.   0.   0.   0.   0.   5.6  0.\n",
            "  3.   3.3  1.3  0.   0.3  1.8  0.   0.   0.   0.   0.   0.   6.1  0.\n",
            "  0.   0.   0.   0.   0.   4.3  4.1  0.3  0.   0.   0.   0.   0.   0.\n",
            "  0.   0.   0.   0.   0.   0.   0.   0.   0.   0.   0.   4.6  0.5  0.\n",
            "  0.   0.   0.   0.   0.   0.   0.   0.   0.   0.   0.   0.   0.   0.\n",
            "  0.   0.5  0.   0.   0.   0.   0.   0.   0.   0.   0.3  0.   0.   0.\n",
            "  0.   0.   0.   0.   0.   0.   0.   0.   0.   0.   0.   0.   0.   0.\n",
            "  0.   0.   0.   0.   0.   0.   0.   0.   0.3  0.   2.   0.   0.   0.\n",
            "  0.   0.   0.   0.   0.   0.   0.   0.   0.   0.   0.   0.   0.   7.6\n",
            "  0.  30.5  0.   0.   0.   0.   0.   2.   0.   0.   0.   0.   0.   0.\n",
            "  0.   0.5 32.5 10.2  0.   5.8  0.   0.   0.   0.3  5.3  0.3  0.   0.\n",
            "  0.   0.   0.   0.5  0.   0.   1.   1.8  0.   0.   4.1  0.   0.   0.\n",
            "  0.   2.   0.   0.   0.   0.   0.   0.   0.   0.   0.   0.   0.   9.9\n",
            "  0.   0.3 28.7  0.   4.6  1.3  0.   0.   0.   0.3  3.8  0.3  0.   0.\n",
            "  0.   0.   0.   8.9  6.9  0.   3.3  1.8 19.3 33.  26.2  0.3  0.8  0.\n",
            "  1.3  0.  12.7  6.6  3.3  1.3  1.5  9.9 33.5 47.2 22.4  2.  29.5  1.5\n",
            "  2.   0.   0.   0.   3.   7.1  0.   0.   0.   0.   0.   0.5 12.2  2.5\n",
            " 12.7  2.  15.7 11.2 27.4 54.1 13.5  9.4  0.3 16.   1.3  0.   1.5  3.6\n",
            " 21.8 18.5  0.   4.3 27.4  4.6  6.1  2.5  5.8  0.   8.6  1.5  0.   0.\n",
            "  0. ]\n"
          ]
        }
      ]
    },
    {
      "cell_type": "code",
      "source": [
        "## Exercicio 1: Calcule y muestre el total de precipitación en el 2015\n",
        "print(f\"El total de precipitación en el 2015 fue de\", precipitation_data.sum())"
      ],
      "metadata": {
        "id": "VwCsND7bpcZN",
        "colab": {
          "base_uri": "https://localhost:8080/"
        },
        "outputId": "459a4028-db7b-4e5a-9495-4a2f79ae7348"
      },
      "execution_count": 56,
      "outputs": [
        {
          "output_type": "stream",
          "name": "stdout",
          "text": [
            "El total de precipitación en el 2015 fue de 1139.2\n"
          ]
        }
      ]
    },
    {
      "cell_type": "code",
      "source": [
        "## Exercicio 2: Calcule y muestre el número de días que llovió en el 2015\n",
        "print(f\"El número de días que llovió en 2015 fue de\", (precipitation_data > 0).sum())"
      ],
      "metadata": {
        "id": "qEDnfbM0p2H7",
        "colab": {
          "base_uri": "https://localhost:8080/"
        },
        "outputId": "bdc978db-5f3d-4225-c74b-c980e86dffd9"
      },
      "execution_count": 41,
      "outputs": [
        {
          "output_type": "stream",
          "name": "stdout",
          "text": [
            "El número de días que llovió en 2015 fue de 144\n"
          ]
        }
      ]
    },
    {
      "cell_type": "code",
      "source": [
        "## Exercicio 3: Calcula y muestre el número de días que no llovió en el 2015\n",
        "print(f\"El número de días que no llovió en 2015 fue de\", (precipitation_data == 0).sum())"
      ],
      "metadata": {
        "id": "cF0ASfaap2P6",
        "colab": {
          "base_uri": "https://localhost:8080/"
        },
        "outputId": "c5503b10-26cd-45b2-a79b-5c19e90fdfcb"
      },
      "execution_count": 42,
      "outputs": [
        {
          "output_type": "stream",
          "name": "stdout",
          "text": [
            "El número de días que no llovió en 2015 fue de 221\n"
          ]
        }
      ]
    },
    {
      "cell_type": "code",
      "source": [
        "## Exercicio 4: Extrae la columna temp_max con datos correspondientes al 2015.\n",
        "## Convierte el dataframe en un numpy array.\n",
        "temp_max_2015 = seattle_weather[(seattle_weather.index.year == 2015)][\"temp_max\"]\n",
        "temp_max = np.array(temp_max_2015)"
      ],
      "metadata": {
        "id": "PCpirvKjqPpM"
      },
      "execution_count": 63,
      "outputs": []
    },
    {
      "cell_type": "code",
      "source": [
        "## Muestra el array\n",
        "print(temp_max)"
      ],
      "metadata": {
        "id": "3K7-__uX4w6g",
        "colab": {
          "base_uri": "https://localhost:8080/"
        },
        "outputId": "f37bab4a-8f70-4a39-f63e-e2d13908c36c"
      },
      "execution_count": 64,
      "outputs": [
        {
          "output_type": "stream",
          "name": "stdout",
          "text": [
            "[ 5.6  5.6  5.  10.6 12.2 12.2  7.8  7.8 10.   7.8  9.4 11.1  9.4  6.1\n",
            "  7.8 11.7 13.3 13.9 10.  10.   7.2  9.4 12.2 14.4 17.2 16.1 11.1 12.2\n",
            " 12.2  8.3  7.2  9.4 11.1 10.  10.6 13.3 14.4 12.2 15.  13.3 12.8 12.8\n",
            " 16.7 15.6 14.4 12.2 15.  16.1 12.2 10.6 11.1 12.2 11.7 12.8 11.1 10.\n",
            " 11.7 10.  12.2 11.1 11.1 10.6 12.8 13.3 15.  16.7 17.2 14.4 13.3 14.4\n",
            " 17.8 17.2 13.9 10.6 13.9 13.3 15.6 15.6 13.9 13.3 11.7 11.1 12.8 14.4\n",
            " 20.6 18.3 15.6 15.6 17.8 12.8 12.8 13.3 11.1 12.8 16.7 13.9 14.4 17.2\n",
            " 17.2 13.9 11.7 13.3 11.7 11.7 13.9 17.8 18.9 18.9 21.1 22.8 17.2 15.6\n",
            " 12.2 12.2 13.3 15.6 25.  15.6 16.1 17.2 18.3 18.3 20.6 17.2 14.4 16.7\n",
            " 20.6 23.9 26.7 19.4 13.9 15.6 12.2 17.8 20.  15.6 19.4 25.6 21.7 23.3\n",
            " 25.6 16.7 16.1 17.8 15.6 21.7 24.4 27.8 26.1 22.8 25.  16.1 17.8 20.\n",
            " 22.8 26.7 29.4 31.1 30.6 28.9 25.6 24.4 20.  23.9 27.8 30.  22.8 25.\n",
            " 24.4 23.9 25.  25.6 25.  26.1 25.6 30.6 31.7 33.3 28.3 28.9 30.6 32.2\n",
            " 33.9 33.3 33.3 32.8 29.4 27.2 30.  28.9 21.1 22.2 26.1 25.6 27.8 26.1\n",
            " 26.1 27.8 33.3 35.  26.7 23.9 23.9 26.1 22.8 21.1 22.2 23.3 27.8 32.2\n",
            " 34.4 34.4 33.3 30.6 28.3 26.1 23.3 25.  28.3 25.  28.3 28.9 30.  28.3\n",
            " 28.3 18.3 21.7 25.  27.2 30.  31.7 22.8 22.2 26.7 27.8 23.9 25.6 28.3\n",
            " 29.4 23.3 22.2 20.  18.9 19.4 19.4 18.3 18.3 20.6 16.1 21.1 22.8 24.4\n",
            " 25.  27.2 26.7 20.6 16.7 17.8 20.  18.3 19.4 21.1 22.8 18.3 18.9 20.6\n",
            " 22.2 15.6 18.3 17.8 21.1 21.7 18.3 21.1 15.6 19.4 22.8 23.3 18.3 16.1\n",
            " 18.9 19.4 21.1 17.8 18.3 16.7 15.  21.1 20.  19.4 15.  17.2 17.8 16.1\n",
            " 16.1 12.8 15.  19.4 12.2 16.1 13.9 15.  17.2 15.6 12.2 11.1 10.6 10.\n",
            " 11.7 15.6 12.2 11.1 10.  11.1 11.1 11.1 13.3  9.4  8.9  8.9 13.3  8.9\n",
            "  8.9  8.3  8.9 10.   6.7  6.7  7.2  9.4  9.4  7.2  1.7  5.6 10.  10.6\n",
            " 15.6 10.6 10.  12.8 11.1 15.6 12.2 11.7  9.4  8.9  7.8  7.8  6.7  6.1\n",
            "  6.7  8.9  8.3  7.8  5.6  7.8  5.   5.6  5.   4.4  4.4  5.   7.2  5.6\n",
            "  5.6]\n"
          ]
        }
      ]
    },
    {
      "cell_type": "code",
      "source": [
        "## Exercicio 5: Encuentre y muestre el número de días donde la temperatura excede 25 grados celcius.\n",
        "print(f\"El número de días donde la temperatura excedió los 25 grados fue de\", (temp_max > 25).sum())"
      ],
      "metadata": {
        "id": "bsg2UhMsqi6D",
        "colab": {
          "base_uri": "https://localhost:8080/"
        },
        "outputId": "22f3b4bf-93af-415e-a28c-b80a63ec17f8"
      },
      "execution_count": 65,
      "outputs": [
        {
          "output_type": "stream",
          "name": "stdout",
          "text": [
            "El número de días donde la temperatura excedió los 25 grados fue de 65\n"
          ]
        }
      ]
    },
    {
      "cell_type": "code",
      "source": [
        "## Exercicio 6: Extrae las columnas wind con datos correspondientes al 2015.\n",
        "wind_2015 = seattle_weather[(seattle_weather.index.year == 2015)][\"wind\"]\n",
        "wind = np.array(wind_2015)\n",
        "print(wind)\n",
        "\n",
        "## Calcule y muestre el promedio de la velocidad del viento para días con precipitación mayor a 1mm.\n",
        "print(f\"\\nEl promedio de la velocidad del viento para días con precipitación mayor a 1mm es de\", wind[(precipitation_data > 1)].mean())"
      ],
      "metadata": {
        "id": "tqql6SiVrRav",
        "colab": {
          "base_uri": "https://localhost:8080/"
        },
        "outputId": "ff51f94a-4ab0-46c1-e8db-90777894195c"
      },
      "execution_count": 66,
      "outputs": [
        {
          "output_type": "stream",
          "name": "stdout",
          "text": [
            "[1.2 2.3 1.7 4.5 6.4 1.3 1.6 2.6 0.6 0.5 1.1 1.6 2.7 2.8 3.2 4.5 2.8 6.6\n",
            " 2.8 3.  1.3 1.3 2.6 3.3 1.4 2.2 2.  1.8 2.9 0.8 1.9 2.6 4.  1.9 1.7 4.6\n",
            " 4.5 4.6 3.9 2.5 4.  1.  2.1 1.7 2.9 4.8 6.6 4.  2.6 2.2 0.9 4.5 4.2 1.4\n",
            " 1.5 1.  1.4 4.  5.1 2.2 4.8 2.1 1.8 1.3 1.4 2.7 1.7 1.8 2.6 3.1 3.2 2.2\n",
            " 3.8 4.2 3.  2.6 2.5 1.9 1.9 4.7 2.3 2.8 3.9 4.4 2.2 4.  5.7 3.  2.9 4.2\n",
            " 3.2 2.4 3.6 1.7 2.4 3.5 3.9 1.7 2.3 4.6 6.5 3.6 3.6 3.3 2.4 3.1 3.6 3.9\n",
            " 3.6 2.6 3.4 2.3 4.1 5.  3.  2.7 2.3 4.3 4.7 2.1 3.7 3.7 2.6 5.2 5.1 2.6\n",
            " 3.  3.  2.6 2.8 2.5 3.3 2.8 2.  2.8 3.  2.1 3.  2.6 1.8 2.1 3.7 2.6 2.7\n",
            " 2.7 2.1 1.8 2.1 2.5 2.5 2.2 3.4 5.  3.  3.9 4.3 2.6 3.2 3.5 2.7 3.  3.5\n",
            " 2.3 2.6 3.7 3.5 3.  3.1 3.  3.2 4.3 3.4 2.4 2.4 2.6 3.  4.7 3.9 2.1 2.7\n",
            " 3.4 4.3 3.4 2.6 2.9 2.1 3.2 2.4 1.9 3.4 3.7 3.  2.2 3.1 3.3 3.2 2.8 3.3\n",
            " 3.4 3.3 3.9 2.4 2.8 1.9 3.8 2.4 2.6 1.9 3.4 3.8 3.5 2.6 3.1 2.  2.3 2.6\n",
            " 3.5 2.9 3.7 3.6 2.2 2.4 4.4 2.7 2.2 5.2 3.7 3.7 3.  3.  2.1 4.2 2.6 2.5\n",
            " 1.8 2.3 3.4 1.7 2.1 2.6 5.8 4.7 5.8 5.  3.8 2.9 2.9 3.5 2.4 1.5 2.4 3.3\n",
            " 3.6 3.1 2.1 3.  3.4 2.8 1.9 3.8 2.6 4.3 6.8 2.7 2.  1.8 2.5 2.6 2.7 3.8\n",
            " 5.1 1.9 1.3 1.3 2.9 4.8 3.7 1.6 2.6 2.2 1.1 2.6 4.7 2.6 2.8 3.2 5.  3.4\n",
            " 1.3 1.3 2.  2.6 1.8 1.3 2.7 2.6 2.9 3.4 4.6 1.7 2.8 4.7 6.7 7.2 6.  2.8\n",
            " 1.4 2.2 2.3 2.7 3.  1.8 1.3 3.9 4.6 5.1 6.5 4.5 4.1 4.  8.  3.8 4.2 4.\n",
            " 4.7 3.1 1.3 4.5 5.7 4.3 3.  1.  0.9 1.7 3.5 5.  5.9 4.7 4.  5.9 3.4 6.2\n",
            " 6.3 7.5 2.8 5.6 6.1 1.7 2.9 2.3 6.  5.1 4.1 6.7 4.3 5.  7.6 4.3 1.5 2.5\n",
            " 2.9 1.3 2.6 3.4 3.5]\n",
            "\n",
            "El promedio de la velocidad del viento para días con precipitación mayor a 1mm es de 3.9311926605504586\n"
          ]
        }
      ]
    },
    {
      "cell_type": "code",
      "source": [
        "## Exercicio 7: Extrae las columnas temp_min y temp_max con datos correspondientes al 2015.\n",
        "temp_min_2015 = seattle_weather[(seattle_weather.index.year == 2015)][\"temp_min\"]\n",
        "temp_min = np.array(temp_min_2015)\n",
        "\n",
        "temp_max_2015 = seattle_weather[(seattle_weather.index.year == 2015)][\"temp_max\"]\n",
        "temp_max = np.array(temp_max_2015)"
      ],
      "metadata": {
        "id": "eSVgFCd5sbZq"
      },
      "execution_count": 71,
      "outputs": []
    },
    {
      "cell_type": "code",
      "source": [
        "\"\"\"Encuentra las temperaturas máximas y mínimas registradas durante los meses de julio\n",
        " y agosto de 2015. Para hacerlo, necesitas extraer una columna de data.seattle_weather()\n",
        " y obtener el rango de números de índice para julio y agosto. Una vez que los tengas,\n",
        " indexa los datos de temperatura mínima y luego calcula y muestra la temperatura máxima y mínima.\n",
        "\"\"\"\n",
        "mask = (seattle_weather.index.year == 2015) & (seattle_weather.index.month.isin([7, 8]))\n",
        "\n",
        "# Obtener la temperatura máxima y mínima\n",
        "v_temp_max = seattle_weather[mask][\"temp_max\"].max()\n",
        "v_temp_min = seattle_weather[mask][\"temp_min\"].min()\n",
        "\n",
        "print(\"La temperatura máxima entre julio y agosto del 2015 fue de\", v_temp_max, \"grados\")\n",
        "print(\"La temperatura mínima entre julio y agosto del 2015 fue de\", v_temp_min, \"grados\")"
      ],
      "metadata": {
        "id": "bXCNzkshuizy",
        "colab": {
          "base_uri": "https://localhost:8080/"
        },
        "outputId": "ecb31108-ca8d-4e26-fe3e-1cd144627624"
      },
      "execution_count": 82,
      "outputs": [
        {
          "output_type": "stream",
          "name": "stdout",
          "text": [
            "1461\n",
            "La temperatura máxima entre julio y agosto del 2015 fue de 35.0 grados\n",
            "La temperatura mínima entre julio y agosto del 2015 fue de 12.2 grados\n"
          ]
        }
      ]
    },
    {
      "cell_type": "code",
      "source": [
        "## Exercicio 8: Determina y muestra el número de días con temp_max > 20°C y temp_min < 10°C\n",
        "res = np.sum((temp_max > 20) & (temp_min < 10))\n",
        "print(\"El número de días con temp_max > 20°C y temp_min < 10°C es de\", res)"
      ],
      "metadata": {
        "id": "EnZwQm8Nvo5R",
        "colab": {
          "base_uri": "https://localhost:8080/"
        },
        "outputId": "afe295ac-9478-4b93-e0ff-5bc6c18477f9"
      },
      "execution_count": 84,
      "outputs": [
        {
          "output_type": "stream",
          "name": "stdout",
          "text": [
            "El número de días con temp_max > 20°C y temp_min < 10°C es de 14\n"
          ]
        }
      ]
    },
    {
      "cell_type": "code",
      "source": [
        "## Exercicio 9: Calcule y muestre el promedio de precipitación por días con temperatura máxima mayores a 15 y menores a 30 grados.\n",
        "res = precipitation_data[(temp_max_2015 > 15) & (temp_max_2015 < 30)].mean()\n",
        "\n",
        "print(\"El promedio de precipitación por días con temperatura máxima mayores a 15 y menores a 30 grados es de\", res)"
      ],
      "metadata": {
        "id": "ogq1a_nq2ZZo",
        "colab": {
          "base_uri": "https://localhost:8080/"
        },
        "outputId": "fcf52f09-fd28-4726-b786-f9a5974ddf07"
      },
      "execution_count": 89,
      "outputs": [
        {
          "output_type": "stream",
          "name": "stdout",
          "text": [
            "El promedio de precipitación por días con temperatura máxima mayores a 15 y menores a 30 grados es de 1.6437837837837839\n"
          ]
        }
      ]
    }
  ]
}